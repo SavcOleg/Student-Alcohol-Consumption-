{
 "cells": [
  {
   "cell_type": "code",
   "execution_count": 1,
   "metadata": {},
   "outputs": [
    {
     "data": {
      "text/html": [
       "        <script type=\"text/javascript\">\n",
       "        window.PlotlyConfig = {MathJaxConfig: 'local'};\n",
       "        if (window.MathJax) {MathJax.Hub.Config({SVG: {font: \"STIX-Web\"}});}\n",
       "        if (typeof require !== 'undefined') {\n",
       "        require.undef(\"plotly\");\n",
       "        requirejs.config({\n",
       "            paths: {\n",
       "                'plotly': ['https://cdn.plot.ly/plotly-latest.min']\n",
       "            }\n",
       "        });\n",
       "        require(['plotly'], function(Plotly) {\n",
       "            window._Plotly = Plotly;\n",
       "        });\n",
       "        }\n",
       "        </script>\n",
       "        "
      ]
     },
     "metadata": {},
     "output_type": "display_data"
    }
   ],
   "source": [
    "import math\n",
    "import numpy as np\n",
    "import pandas as pd\n",
    "import matplotlib.pyplot as plt\n",
    "%matplotlib inline\n",
    "import seaborn as sns\n",
    "pd.set_option('display.max_columns', None)\n",
    "import warnings\n",
    "import plotly.offline as py\n",
    "py.init_notebook_mode(connected=True)\n",
    "import plotly.graph_objs as go\n",
    "from plotly.offline import download_plotlyjs, init_notebook_mode, plot, iplot\n",
    "from plotly import tools\n",
    "from sklearn.model_selection import train_test_split\n",
    "from sklearn.linear_model import LinearRegression\n",
    "from sklearn.tree import DecisionTreeRegressor\n",
    "from sklearn.model_selection import cross_val_score\n",
    "from sklearn import datasets, linear_model\n",
    "from sklearn.ensemble import GradientBoostingRegressor\n",
    "from sklearn.ensemble import RandomForestRegressor\n",
    "from sklearn.metrics import mean_squared_error as MSE\n",
    "from sklearn.model_selection import GridSearchCV\n",
    "from sklearn.svm import LinearSVR\n",
    "from sklearn.svm import SVR\n",
    "from xgboost.sklearn import XGBRegressor\n",
    "from sklearn.tree import export_graphviz\n",
    "\n",
    "warnings.filterwarnings('ignore')\n",
    "pd.options.mode.chained_assignment = None\n",
    "pd.options.display.max_columns = 9999\n",
    "pd.options.display.float_format = '{:20,.2f}'.format\n",
    "from IPython.display import Image\n",
    "from IPython.core.display import HTML "
   ]
  },
  {
   "cell_type": "markdown",
   "metadata": {},
   "source": [
    "### Project Stages:\n",
    "The following are the project stages applied:\n",
    "1.\tProblem definition.\n",
    "2.\tData collection and preprocessing.\n",
    "3.\tEDA.\n",
    "4.\tExamination of seven models for mathematic dataset, while selecting some of them for further examination with different parameters.\n",
    "5.\tExamine selected models on test data.\n",
    "6.\tConclusion.\n"
   ]
  },
  {
   "cell_type": "markdown",
   "metadata": {},
   "source": [
    "### Problem Definition: \n",
    "\n",
    "Estimate final grade in mathematic according to given features, while most features are social features. \n",
    "In addition, EDA is done on mathematic and Portuguese datasets, but prediction is done only on mathematic data set.  \n"
   ]
  },
  {
   "cell_type": "code",
   "execution_count": 2,
   "metadata": {},
   "outputs": [
    {
     "name": "stdout",
     "output_type": "stream",
     "text": [
      "<class 'pandas.core.frame.DataFrame'>\n",
      "RangeIndex: 395 entries, 0 to 394\n",
      "Data columns (total 33 columns):\n",
      "school        395 non-null object\n",
      "sex           395 non-null object\n",
      "age           395 non-null int64\n",
      "address       395 non-null object\n",
      "famsize       395 non-null object\n",
      "Pstatus       395 non-null object\n",
      "Medu          395 non-null int64\n",
      "Fedu          395 non-null int64\n",
      "Mjob          395 non-null object\n",
      "Fjob          395 non-null object\n",
      "reason        395 non-null object\n",
      "guardian      395 non-null object\n",
      "traveltime    395 non-null int64\n",
      "studytime     395 non-null int64\n",
      "failures      395 non-null int64\n",
      "schoolsup     395 non-null object\n",
      "famsup        395 non-null object\n",
      "paid          395 non-null object\n",
      "activities    395 non-null object\n",
      "nursery       395 non-null object\n",
      "higher        395 non-null object\n",
      "internet      395 non-null object\n",
      "romantic      395 non-null object\n",
      "famrel        395 non-null int64\n",
      "freetime      395 non-null int64\n",
      "goout         395 non-null int64\n",
      "Dalc          395 non-null int64\n",
      "Walc          395 non-null int64\n",
      "health        395 non-null int64\n",
      "absences      395 non-null int64\n",
      "G1            395 non-null int64\n",
      "G2            395 non-null int64\n",
      "G3            395 non-null int64\n",
      "dtypes: int64(16), object(17)\n",
      "memory usage: 101.9+ KB\n"
     ]
    }
   ],
   "source": [
    "#Loading mathematic data set\n",
    "data_mat = pd.read_csv('student-mat.csv',sep = ';')\n",
    "#Loading Portuguese data set\n",
    "data_por = pd.read_csv('student-por.csv',sep = ';')\n",
    "data_mat.info()"
   ]
  },
  {
   "cell_type": "code",
   "execution_count": 3,
   "metadata": {
    "scrolled": true
   },
   "outputs": [
    {
     "data": {
      "text/html": [
       "<div>\n",
       "<style scoped>\n",
       "    .dataframe tbody tr th:only-of-type {\n",
       "        vertical-align: middle;\n",
       "    }\n",
       "\n",
       "    .dataframe tbody tr th {\n",
       "        vertical-align: top;\n",
       "    }\n",
       "\n",
       "    .dataframe thead th {\n",
       "        text-align: right;\n",
       "    }\n",
       "</style>\n",
       "<table border=\"1\" class=\"dataframe\">\n",
       "  <thead>\n",
       "    <tr style=\"text-align: right;\">\n",
       "      <th></th>\n",
       "      <th>school</th>\n",
       "      <th>sex</th>\n",
       "      <th>age</th>\n",
       "      <th>address</th>\n",
       "      <th>famsize</th>\n",
       "      <th>Pstatus</th>\n",
       "      <th>Medu</th>\n",
       "      <th>Fedu</th>\n",
       "      <th>Mjob</th>\n",
       "      <th>Fjob</th>\n",
       "      <th>reason</th>\n",
       "      <th>guardian</th>\n",
       "      <th>traveltime</th>\n",
       "      <th>studytime</th>\n",
       "      <th>failures</th>\n",
       "      <th>schoolsup</th>\n",
       "      <th>famsup</th>\n",
       "      <th>paid</th>\n",
       "      <th>activities</th>\n",
       "      <th>nursery</th>\n",
       "      <th>higher</th>\n",
       "      <th>internet</th>\n",
       "      <th>romantic</th>\n",
       "      <th>famrel</th>\n",
       "      <th>freetime</th>\n",
       "      <th>goout</th>\n",
       "      <th>Dalc</th>\n",
       "      <th>Walc</th>\n",
       "      <th>health</th>\n",
       "      <th>absences</th>\n",
       "      <th>G1</th>\n",
       "      <th>G2</th>\n",
       "      <th>G3</th>\n",
       "    </tr>\n",
       "  </thead>\n",
       "  <tbody>\n",
       "    <tr>\n",
       "      <th>0</th>\n",
       "      <td>GP</td>\n",
       "      <td>F</td>\n",
       "      <td>18</td>\n",
       "      <td>U</td>\n",
       "      <td>GT3</td>\n",
       "      <td>A</td>\n",
       "      <td>4</td>\n",
       "      <td>4</td>\n",
       "      <td>at_home</td>\n",
       "      <td>teacher</td>\n",
       "      <td>course</td>\n",
       "      <td>mother</td>\n",
       "      <td>2</td>\n",
       "      <td>2</td>\n",
       "      <td>0</td>\n",
       "      <td>yes</td>\n",
       "      <td>no</td>\n",
       "      <td>no</td>\n",
       "      <td>no</td>\n",
       "      <td>yes</td>\n",
       "      <td>yes</td>\n",
       "      <td>no</td>\n",
       "      <td>no</td>\n",
       "      <td>4</td>\n",
       "      <td>3</td>\n",
       "      <td>4</td>\n",
       "      <td>1</td>\n",
       "      <td>1</td>\n",
       "      <td>3</td>\n",
       "      <td>6</td>\n",
       "      <td>5</td>\n",
       "      <td>6</td>\n",
       "      <td>6</td>\n",
       "    </tr>\n",
       "    <tr>\n",
       "      <th>1</th>\n",
       "      <td>GP</td>\n",
       "      <td>F</td>\n",
       "      <td>17</td>\n",
       "      <td>U</td>\n",
       "      <td>GT3</td>\n",
       "      <td>T</td>\n",
       "      <td>1</td>\n",
       "      <td>1</td>\n",
       "      <td>at_home</td>\n",
       "      <td>other</td>\n",
       "      <td>course</td>\n",
       "      <td>father</td>\n",
       "      <td>1</td>\n",
       "      <td>2</td>\n",
       "      <td>0</td>\n",
       "      <td>no</td>\n",
       "      <td>yes</td>\n",
       "      <td>no</td>\n",
       "      <td>no</td>\n",
       "      <td>no</td>\n",
       "      <td>yes</td>\n",
       "      <td>yes</td>\n",
       "      <td>no</td>\n",
       "      <td>5</td>\n",
       "      <td>3</td>\n",
       "      <td>3</td>\n",
       "      <td>1</td>\n",
       "      <td>1</td>\n",
       "      <td>3</td>\n",
       "      <td>4</td>\n",
       "      <td>5</td>\n",
       "      <td>5</td>\n",
       "      <td>6</td>\n",
       "    </tr>\n",
       "    <tr>\n",
       "      <th>2</th>\n",
       "      <td>GP</td>\n",
       "      <td>F</td>\n",
       "      <td>15</td>\n",
       "      <td>U</td>\n",
       "      <td>LE3</td>\n",
       "      <td>T</td>\n",
       "      <td>1</td>\n",
       "      <td>1</td>\n",
       "      <td>at_home</td>\n",
       "      <td>other</td>\n",
       "      <td>other</td>\n",
       "      <td>mother</td>\n",
       "      <td>1</td>\n",
       "      <td>2</td>\n",
       "      <td>3</td>\n",
       "      <td>yes</td>\n",
       "      <td>no</td>\n",
       "      <td>yes</td>\n",
       "      <td>no</td>\n",
       "      <td>yes</td>\n",
       "      <td>yes</td>\n",
       "      <td>yes</td>\n",
       "      <td>no</td>\n",
       "      <td>4</td>\n",
       "      <td>3</td>\n",
       "      <td>2</td>\n",
       "      <td>2</td>\n",
       "      <td>3</td>\n",
       "      <td>3</td>\n",
       "      <td>10</td>\n",
       "      <td>7</td>\n",
       "      <td>8</td>\n",
       "      <td>10</td>\n",
       "    </tr>\n",
       "    <tr>\n",
       "      <th>3</th>\n",
       "      <td>GP</td>\n",
       "      <td>F</td>\n",
       "      <td>15</td>\n",
       "      <td>U</td>\n",
       "      <td>GT3</td>\n",
       "      <td>T</td>\n",
       "      <td>4</td>\n",
       "      <td>2</td>\n",
       "      <td>health</td>\n",
       "      <td>services</td>\n",
       "      <td>home</td>\n",
       "      <td>mother</td>\n",
       "      <td>1</td>\n",
       "      <td>3</td>\n",
       "      <td>0</td>\n",
       "      <td>no</td>\n",
       "      <td>yes</td>\n",
       "      <td>yes</td>\n",
       "      <td>yes</td>\n",
       "      <td>yes</td>\n",
       "      <td>yes</td>\n",
       "      <td>yes</td>\n",
       "      <td>yes</td>\n",
       "      <td>3</td>\n",
       "      <td>2</td>\n",
       "      <td>2</td>\n",
       "      <td>1</td>\n",
       "      <td>1</td>\n",
       "      <td>5</td>\n",
       "      <td>2</td>\n",
       "      <td>15</td>\n",
       "      <td>14</td>\n",
       "      <td>15</td>\n",
       "    </tr>\n",
       "    <tr>\n",
       "      <th>4</th>\n",
       "      <td>GP</td>\n",
       "      <td>F</td>\n",
       "      <td>16</td>\n",
       "      <td>U</td>\n",
       "      <td>GT3</td>\n",
       "      <td>T</td>\n",
       "      <td>3</td>\n",
       "      <td>3</td>\n",
       "      <td>other</td>\n",
       "      <td>other</td>\n",
       "      <td>home</td>\n",
       "      <td>father</td>\n",
       "      <td>1</td>\n",
       "      <td>2</td>\n",
       "      <td>0</td>\n",
       "      <td>no</td>\n",
       "      <td>yes</td>\n",
       "      <td>yes</td>\n",
       "      <td>no</td>\n",
       "      <td>yes</td>\n",
       "      <td>yes</td>\n",
       "      <td>no</td>\n",
       "      <td>no</td>\n",
       "      <td>4</td>\n",
       "      <td>3</td>\n",
       "      <td>2</td>\n",
       "      <td>1</td>\n",
       "      <td>2</td>\n",
       "      <td>5</td>\n",
       "      <td>4</td>\n",
       "      <td>6</td>\n",
       "      <td>10</td>\n",
       "      <td>10</td>\n",
       "    </tr>\n",
       "  </tbody>\n",
       "</table>\n",
       "</div>"
      ],
      "text/plain": [
       "  school sex  age address famsize Pstatus  Medu  Fedu     Mjob      Fjob  \\\n",
       "0     GP   F   18       U     GT3       A     4     4  at_home   teacher   \n",
       "1     GP   F   17       U     GT3       T     1     1  at_home     other   \n",
       "2     GP   F   15       U     LE3       T     1     1  at_home     other   \n",
       "3     GP   F   15       U     GT3       T     4     2   health  services   \n",
       "4     GP   F   16       U     GT3       T     3     3    other     other   \n",
       "\n",
       "   reason guardian  traveltime  studytime  failures schoolsup famsup paid  \\\n",
       "0  course   mother           2          2         0       yes     no   no   \n",
       "1  course   father           1          2         0        no    yes   no   \n",
       "2   other   mother           1          2         3       yes     no  yes   \n",
       "3    home   mother           1          3         0        no    yes  yes   \n",
       "4    home   father           1          2         0        no    yes  yes   \n",
       "\n",
       "  activities nursery higher internet romantic  famrel  freetime  goout  Dalc  \\\n",
       "0         no     yes    yes       no       no       4         3      4     1   \n",
       "1         no      no    yes      yes       no       5         3      3     1   \n",
       "2         no     yes    yes      yes       no       4         3      2     2   \n",
       "3        yes     yes    yes      yes      yes       3         2      2     1   \n",
       "4         no     yes    yes       no       no       4         3      2     1   \n",
       "\n",
       "   Walc  health  absences  G1  G2  G3  \n",
       "0     1       3         6   5   6   6  \n",
       "1     1       3         4   5   5   6  \n",
       "2     3       3        10   7   8  10  \n",
       "3     1       5         2  15  14  15  \n",
       "4     2       5         4   6  10  10  "
      ]
     },
     "execution_count": 3,
     "metadata": {},
     "output_type": "execute_result"
    }
   ],
   "source": [
    "data_mat.head()"
   ]
  },
  {
   "cell_type": "code",
   "execution_count": 4,
   "metadata": {},
   "outputs": [
    {
     "data": {
      "text/html": [
       "<div>\n",
       "<style scoped>\n",
       "    .dataframe tbody tr th:only-of-type {\n",
       "        vertical-align: middle;\n",
       "    }\n",
       "\n",
       "    .dataframe tbody tr th {\n",
       "        vertical-align: top;\n",
       "    }\n",
       "\n",
       "    .dataframe thead th {\n",
       "        text-align: right;\n",
       "    }\n",
       "</style>\n",
       "<table border=\"1\" class=\"dataframe\">\n",
       "  <thead>\n",
       "    <tr style=\"text-align: right;\">\n",
       "      <th></th>\n",
       "      <th>school</th>\n",
       "      <th>sex</th>\n",
       "      <th>age</th>\n",
       "      <th>address</th>\n",
       "      <th>famsize</th>\n",
       "      <th>Pstatus</th>\n",
       "      <th>Medu</th>\n",
       "      <th>Fedu</th>\n",
       "      <th>Mjob</th>\n",
       "      <th>Fjob</th>\n",
       "      <th>reason</th>\n",
       "      <th>guardian</th>\n",
       "      <th>traveltime</th>\n",
       "      <th>studytime</th>\n",
       "      <th>failures</th>\n",
       "      <th>schoolsup</th>\n",
       "      <th>famsup</th>\n",
       "      <th>paid</th>\n",
       "      <th>activities</th>\n",
       "      <th>nursery</th>\n",
       "      <th>higher</th>\n",
       "      <th>internet</th>\n",
       "      <th>romantic</th>\n",
       "      <th>famrel</th>\n",
       "      <th>freetime</th>\n",
       "      <th>goout</th>\n",
       "      <th>Dalc</th>\n",
       "      <th>Walc</th>\n",
       "      <th>health</th>\n",
       "      <th>absences</th>\n",
       "      <th>G1</th>\n",
       "      <th>G2</th>\n",
       "      <th>G3</th>\n",
       "    </tr>\n",
       "  </thead>\n",
       "  <tbody>\n",
       "    <tr>\n",
       "      <th>0</th>\n",
       "      <td>GP</td>\n",
       "      <td>F</td>\n",
       "      <td>18</td>\n",
       "      <td>U</td>\n",
       "      <td>GT3</td>\n",
       "      <td>A</td>\n",
       "      <td>4</td>\n",
       "      <td>4</td>\n",
       "      <td>at_home</td>\n",
       "      <td>teacher</td>\n",
       "      <td>course</td>\n",
       "      <td>mother</td>\n",
       "      <td>2</td>\n",
       "      <td>2</td>\n",
       "      <td>0</td>\n",
       "      <td>yes</td>\n",
       "      <td>no</td>\n",
       "      <td>no</td>\n",
       "      <td>no</td>\n",
       "      <td>yes</td>\n",
       "      <td>yes</td>\n",
       "      <td>no</td>\n",
       "      <td>no</td>\n",
       "      <td>4</td>\n",
       "      <td>3</td>\n",
       "      <td>4</td>\n",
       "      <td>1</td>\n",
       "      <td>1</td>\n",
       "      <td>3</td>\n",
       "      <td>4</td>\n",
       "      <td>0</td>\n",
       "      <td>11</td>\n",
       "      <td>11</td>\n",
       "    </tr>\n",
       "    <tr>\n",
       "      <th>1</th>\n",
       "      <td>GP</td>\n",
       "      <td>F</td>\n",
       "      <td>17</td>\n",
       "      <td>U</td>\n",
       "      <td>GT3</td>\n",
       "      <td>T</td>\n",
       "      <td>1</td>\n",
       "      <td>1</td>\n",
       "      <td>at_home</td>\n",
       "      <td>other</td>\n",
       "      <td>course</td>\n",
       "      <td>father</td>\n",
       "      <td>1</td>\n",
       "      <td>2</td>\n",
       "      <td>0</td>\n",
       "      <td>no</td>\n",
       "      <td>yes</td>\n",
       "      <td>no</td>\n",
       "      <td>no</td>\n",
       "      <td>no</td>\n",
       "      <td>yes</td>\n",
       "      <td>yes</td>\n",
       "      <td>no</td>\n",
       "      <td>5</td>\n",
       "      <td>3</td>\n",
       "      <td>3</td>\n",
       "      <td>1</td>\n",
       "      <td>1</td>\n",
       "      <td>3</td>\n",
       "      <td>2</td>\n",
       "      <td>9</td>\n",
       "      <td>11</td>\n",
       "      <td>11</td>\n",
       "    </tr>\n",
       "    <tr>\n",
       "      <th>2</th>\n",
       "      <td>GP</td>\n",
       "      <td>F</td>\n",
       "      <td>15</td>\n",
       "      <td>U</td>\n",
       "      <td>LE3</td>\n",
       "      <td>T</td>\n",
       "      <td>1</td>\n",
       "      <td>1</td>\n",
       "      <td>at_home</td>\n",
       "      <td>other</td>\n",
       "      <td>other</td>\n",
       "      <td>mother</td>\n",
       "      <td>1</td>\n",
       "      <td>2</td>\n",
       "      <td>0</td>\n",
       "      <td>yes</td>\n",
       "      <td>no</td>\n",
       "      <td>no</td>\n",
       "      <td>no</td>\n",
       "      <td>yes</td>\n",
       "      <td>yes</td>\n",
       "      <td>yes</td>\n",
       "      <td>no</td>\n",
       "      <td>4</td>\n",
       "      <td>3</td>\n",
       "      <td>2</td>\n",
       "      <td>2</td>\n",
       "      <td>3</td>\n",
       "      <td>3</td>\n",
       "      <td>6</td>\n",
       "      <td>12</td>\n",
       "      <td>13</td>\n",
       "      <td>12</td>\n",
       "    </tr>\n",
       "    <tr>\n",
       "      <th>3</th>\n",
       "      <td>GP</td>\n",
       "      <td>F</td>\n",
       "      <td>15</td>\n",
       "      <td>U</td>\n",
       "      <td>GT3</td>\n",
       "      <td>T</td>\n",
       "      <td>4</td>\n",
       "      <td>2</td>\n",
       "      <td>health</td>\n",
       "      <td>services</td>\n",
       "      <td>home</td>\n",
       "      <td>mother</td>\n",
       "      <td>1</td>\n",
       "      <td>3</td>\n",
       "      <td>0</td>\n",
       "      <td>no</td>\n",
       "      <td>yes</td>\n",
       "      <td>no</td>\n",
       "      <td>yes</td>\n",
       "      <td>yes</td>\n",
       "      <td>yes</td>\n",
       "      <td>yes</td>\n",
       "      <td>yes</td>\n",
       "      <td>3</td>\n",
       "      <td>2</td>\n",
       "      <td>2</td>\n",
       "      <td>1</td>\n",
       "      <td>1</td>\n",
       "      <td>5</td>\n",
       "      <td>0</td>\n",
       "      <td>14</td>\n",
       "      <td>14</td>\n",
       "      <td>14</td>\n",
       "    </tr>\n",
       "    <tr>\n",
       "      <th>4</th>\n",
       "      <td>GP</td>\n",
       "      <td>F</td>\n",
       "      <td>16</td>\n",
       "      <td>U</td>\n",
       "      <td>GT3</td>\n",
       "      <td>T</td>\n",
       "      <td>3</td>\n",
       "      <td>3</td>\n",
       "      <td>other</td>\n",
       "      <td>other</td>\n",
       "      <td>home</td>\n",
       "      <td>father</td>\n",
       "      <td>1</td>\n",
       "      <td>2</td>\n",
       "      <td>0</td>\n",
       "      <td>no</td>\n",
       "      <td>yes</td>\n",
       "      <td>no</td>\n",
       "      <td>no</td>\n",
       "      <td>yes</td>\n",
       "      <td>yes</td>\n",
       "      <td>no</td>\n",
       "      <td>no</td>\n",
       "      <td>4</td>\n",
       "      <td>3</td>\n",
       "      <td>2</td>\n",
       "      <td>1</td>\n",
       "      <td>2</td>\n",
       "      <td>5</td>\n",
       "      <td>0</td>\n",
       "      <td>11</td>\n",
       "      <td>13</td>\n",
       "      <td>13</td>\n",
       "    </tr>\n",
       "  </tbody>\n",
       "</table>\n",
       "</div>"
      ],
      "text/plain": [
       "  school sex  age address famsize Pstatus  Medu  Fedu     Mjob      Fjob  \\\n",
       "0     GP   F   18       U     GT3       A     4     4  at_home   teacher   \n",
       "1     GP   F   17       U     GT3       T     1     1  at_home     other   \n",
       "2     GP   F   15       U     LE3       T     1     1  at_home     other   \n",
       "3     GP   F   15       U     GT3       T     4     2   health  services   \n",
       "4     GP   F   16       U     GT3       T     3     3    other     other   \n",
       "\n",
       "   reason guardian  traveltime  studytime  failures schoolsup famsup paid  \\\n",
       "0  course   mother           2          2         0       yes     no   no   \n",
       "1  course   father           1          2         0        no    yes   no   \n",
       "2   other   mother           1          2         0       yes     no   no   \n",
       "3    home   mother           1          3         0        no    yes   no   \n",
       "4    home   father           1          2         0        no    yes   no   \n",
       "\n",
       "  activities nursery higher internet romantic  famrel  freetime  goout  Dalc  \\\n",
       "0         no     yes    yes       no       no       4         3      4     1   \n",
       "1         no      no    yes      yes       no       5         3      3     1   \n",
       "2         no     yes    yes      yes       no       4         3      2     2   \n",
       "3        yes     yes    yes      yes      yes       3         2      2     1   \n",
       "4         no     yes    yes       no       no       4         3      2     1   \n",
       "\n",
       "   Walc  health  absences  G1  G2  G3  \n",
       "0     1       3         4   0  11  11  \n",
       "1     1       3         2   9  11  11  \n",
       "2     3       3         6  12  13  12  \n",
       "3     1       5         0  14  14  14  \n",
       "4     2       5         0  11  13  13  "
      ]
     },
     "execution_count": 4,
     "metadata": {},
     "output_type": "execute_result"
    }
   ],
   "source": [
    "data_por.head()"
   ]
  },
  {
   "cell_type": "markdown",
   "metadata": {},
   "source": [
    "# Features Description"
   ]
  },
  {
   "cell_type": "markdown",
   "metadata": {},
   "source": [
    "There are 33 features in this data. What they represent is given below.\n",
    "\n",
    "school : Student's school (binary: 'GP' - Gabriel Pereira or 'MS' - Mousinho da Silveira)\n",
    "\n",
    "sex : Student's sex (binary: 'F' - female or 'M' - male)\n",
    "\n",
    "age : Student's age (numeric: from 15 to 22)\n",
    "\n",
    "address : Student's home address type (binary: 'U' - urban or 'R' - rural)\n",
    "\n",
    "famsize : Family size (binary: 'LE3' - less or equal to 3 or 'GT3' - greater than 3)\n",
    "\n",
    "Pstatus : Parent's cohabitation status (binary: 'T' - living together or 'A' - living apart)\n",
    "\n",
    "Medu : Mother's education (numeric: 0 - none, 1 - primary education (4th grade), 2 - 5th to 9th grade, 3 - secondary education, or 4 - higher education)\n",
    "\n",
    "Fedu : Father's education (numeric: 0 - none, 1 - primary education (4th grade), 2 - 5th to 9th grade, 3 - secondary education, or 4 - higher education)\n",
    "\n",
    "Mjob : Mother's job (nominal: 'teacher', 'health' care related, civil 'services' (e.g. administrative or police), 'at_home' or 'other')\n",
    "\n",
    "Fjob : Father's job (nominal: 'teacher', 'health' care related, civil 'services' (e.g. administrative or police), 'at_home' or 'other')\n",
    "\n",
    "reason : Reason to choose this school (nominal: close to 'home', school 'reputation', 'course' preference or 'other')\n",
    "\n",
    "guardian : Student's guardian (nominal: 'mother', 'father' or 'other')\n",
    "\n",
    "traveltime : Home to school travel time (numeric: 1 - <15 min., 2 - 15 to 30 min., 3 - 30 min. to 1 hour, or 4 - >1 hour)\n",
    "\n",
    "studytime : Weekly study time (numeric: 1 - <2 hours, 2 - 2 to 5 hours, 3 - 5 to 10 hours, or 4 - >10 hours)\n",
    "\n",
    "failures : Number of past class failures (numeric: n if 1<=n<3, else 4)\n",
    "\n",
    "schoolsup : Extra educational support (binary: yes or no)\n",
    "\n",
    "famsup : Family educational support (binary: yes or no)\n",
    "\n",
    "paid : Extra paid classes within the course subject (Math or Portuguese) (binary: yes or no)\n",
    "\n",
    "activities : Extra-curricular activities (binary: yes or no)\n",
    "\n",
    "nursery : Attended nursery school (binary: yes or no)\n",
    "\n",
    "higher : Wants to take higher education (binary: yes or no)\n",
    "\n",
    "internet : Internet access at home (binary: yes or no)\n",
    "\n",
    "romantic : With a romantic relationship (binary: yes or no)\n",
    "\n",
    "famrel : Quality of family relationships (numeric: from 1 - very bad to 5 - excellent)\n",
    "\n",
    "freetime : Free time after school (numeric: from 1 - very low to 5 - very high)\n",
    "\n",
    "goout : Going out with friends (numeric: from 1 - very low to 5 - very high)\n",
    "\n",
    "Dalc : Workday alcohol consumption (numeric: from 1 - very low to 5 - very high)\n",
    "\n",
    "Walc : Weekend alcohol consumption (numeric: from 1 - very low to 5 - very high)\n",
    "\n",
    "health : Current health status (numeric: from 1 - very bad to 5 - very good)\n",
    "\n",
    "absences : Number of school absences (numeric: from 0 to 93)\n",
    "\n",
    "G1 : First period grade (numeric: from 0 to 20)\n",
    "\n",
    "G2 : Second period grade (numeric: from 0 to 20)\n",
    "\n",
    "G3 : Final grade (numeric: from 0 to 20, output target)"
   ]
  },
  {
   "cell_type": "code",
   "execution_count": 5,
   "metadata": {},
   "outputs": [
    {
     "data": {
      "text/plain": [
       "school        False\n",
       "sex           False\n",
       "age           False\n",
       "address       False\n",
       "famsize       False\n",
       "Pstatus       False\n",
       "Medu          False\n",
       "Fedu          False\n",
       "Mjob          False\n",
       "Fjob          False\n",
       "reason        False\n",
       "guardian      False\n",
       "traveltime    False\n",
       "studytime     False\n",
       "failures      False\n",
       "schoolsup     False\n",
       "famsup        False\n",
       "paid          False\n",
       "activities    False\n",
       "nursery       False\n",
       "higher        False\n",
       "internet      False\n",
       "romantic      False\n",
       "famrel        False\n",
       "freetime      False\n",
       "goout         False\n",
       "Dalc          False\n",
       "Walc          False\n",
       "health        False\n",
       "absences      False\n",
       "G1            False\n",
       "G2            False\n",
       "G3            False\n",
       "dtype: bool"
      ]
     },
     "execution_count": 5,
     "metadata": {},
     "output_type": "execute_result"
    }
   ],
   "source": [
    "#Validate nulls on mathematic dataset\n",
    "data_mat.isnull().any()"
   ]
  },
  {
   "cell_type": "code",
   "execution_count": 6,
   "metadata": {},
   "outputs": [
    {
     "data": {
      "text/plain": [
       "school        False\n",
       "sex           False\n",
       "age           False\n",
       "address       False\n",
       "famsize       False\n",
       "Pstatus       False\n",
       "Medu          False\n",
       "Fedu          False\n",
       "Mjob          False\n",
       "Fjob          False\n",
       "reason        False\n",
       "guardian      False\n",
       "traveltime    False\n",
       "studytime     False\n",
       "failures      False\n",
       "schoolsup     False\n",
       "famsup        False\n",
       "paid          False\n",
       "activities    False\n",
       "nursery       False\n",
       "higher        False\n",
       "internet      False\n",
       "romantic      False\n",
       "famrel        False\n",
       "freetime      False\n",
       "goout         False\n",
       "Dalc          False\n",
       "Walc          False\n",
       "health        False\n",
       "absences      False\n",
       "G1            False\n",
       "G2            False\n",
       "G3            False\n",
       "dtype: bool"
      ]
     },
     "execution_count": 6,
     "metadata": {},
     "output_type": "execute_result"
    }
   ],
   "source": [
    "#Validate nulls on Portuguese dataset\n",
    "data_por.isnull().any()"
   ]
  },
  {
   "cell_type": "code",
   "execution_count": 7,
   "metadata": {},
   "outputs": [
    {
     "data": {
      "text/plain": [
       "Text(0.5, 1.0, 'Gender of students : F - female,M - male')"
      ]
     },
     "execution_count": 7,
     "metadata": {},
     "output_type": "execute_result"
    },
    {
     "data": {
      "image/png": "[encoded data removed]",
      "text/plain": [
       "<Figure size 432x432 with 1 Axes>"
      ]
     },
     "metadata": {
      "needs_background": "light"
     },
     "output_type": "display_data"
    }
   ],
   "source": [
    "#Display number of students study mathematic according to gender\n",
    "sns.catplot(x=\"sex\", kind=\"count\",palette=\"magma\", data=data_mat, height = 6)\n",
    "plt.title(\"Gender of students : F - female,M - male\")"
   ]
  },
  {
   "cell_type": "code",
   "execution_count": 8,
   "metadata": {},
   "outputs": [
    {
     "data": {
      "text/plain": [
       "Text(0.5, 1.0, 'Gender of students : F - female,M - male')"
      ]
     },
     "execution_count": 8,
     "metadata": {},
     "output_type": "execute_result"
    },
    {
     "data": {
      "image/png": "[encoded data removed]",
      "text/plain": [
       "<Figure size 432x432 with 1 Axes>"
      ]
     },
     "metadata": {
      "needs_background": "light"
     },
     "output_type": "display_data"
    }
   ],
   "source": [
    "#Display number of students study Portuguese according to gender.\n",
    "sns.catplot(x=\"sex\", kind=\"count\",palette=\"magma\", data=data_por, height = 6)\n",
    "plt.title(\"Gender of students : F - female,M - male\")"
   ]
  },
  {
   "cell_type": "code",
   "execution_count": 9,
   "metadata": {
    "scrolled": true
   },
   "outputs": [
    {
     "data": {
      "application/vnd.plotly.v1+json": {
       "config": {
        "linkText": "Export to plot.ly",
        "plotlyServerURL": "https://plot.ly",
        "responsive": true,
        "showLink": false
       },
       "data": [
        {
         "labels": [
          16,
          17,
          18,
          15,
          19,
          20,
          22,
          21
         ],
         "type": "pie",
         "uid": "b5b7a333-d553-4006-bf09-4caf851a49a6",
         "values": [
          26.329113924050635,
          24.81012658227848,
          20.759493670886076,
          20.759493670886076,
          6.075949367088607,
          0.7594936708860759,
          0.25316455696202533,
          0.25316455696202533
         ]
        }
       ],
       "layout": {
        "title": {
         "text": "Аge of students"
        }
       }
      },
      "text/html": [
       "<div>\n",
       "        \n",
       "        \n",
       "            <div id=\"c7c3afe8-2797-4658-b83f-6507f75fad00\" class=\"plotly-graph-div\" style=\"height:525px; width:100%;\"></div>\n",
       "            <script type=\"text/javascript\">\n",
       "                require([\"plotly\"], function(Plotly) {\n",
       "                    window.PLOTLYENV=window.PLOTLYENV || {};\n",
       "                    window.PLOTLYENV.BASE_URL='https://plot.ly';\n",
       "                    \n",
       "                if (document.getElementById(\"c7c3afe8-2797-4658-b83f-6507f75fad00\")) {\n",
       "                    Plotly.newPlot(\n",
       "                        'c7c3afe8-2797-4658-b83f-6507f75fad00',\n",
       "                        [{\"labels\": [16, 17, 18, 15, 19, 20, 22, 21], \"type\": \"pie\", \"uid\": \"dba5d125-232d-42f5-85f2-73d62f269258\", \"values\": [26.329113924050635, 24.81012658227848, 20.759493670886076, 20.759493670886076, 6.075949367088607, 0.7594936708860759, 0.25316455696202533, 0.25316455696202533]}],\n",
       "                        {\"title\": {\"text\": \"\\u0410ge of students\"}},\n",
       "                        {\"showLink\": false, \"linkText\": \"Export to plot.ly\", \"plotlyServerURL\": \"https://plot.ly\", \"responsive\": true}\n",
       "                    ).then(function(){\n",
       "                            \n",
       "var gd = document.getElementById('c7c3afe8-2797-4658-b83f-6507f75fad00');\n",
       "var x = new MutationObserver(function (mutations, observer) {{\n",
       "        var display = window.getComputedStyle(gd).display;\n",
       "        if (!display || display === 'none') {{\n",
       "            console.log([gd, 'removed!']);\n",
       "            Plotly.purge(gd);\n",
       "            observer.disconnect();\n",
       "        }}\n",
       "}});\n",
       "\n",
       "// Listen for the removal of the full notebook cells\n",
       "var notebookContainer = gd.closest('#notebook-container');\n",
       "if (notebookContainer) {{\n",
       "    x.observe(notebookContainer, {childList: true});\n",
       "}}\n",
       "\n",
       "// Listen for the clearing of the current output cell\n",
       "var outputEl = gd.closest('.output');\n",
       "if (outputEl) {{\n",
       "    x.observe(outputEl, {childList: true});\n",
       "}}\n",
       "\n",
       "                        })\n",
       "                };\n",
       "                });\n",
       "            </script>\n",
       "        </div>"
      ]
     },
     "metadata": {},
     "output_type": "display_data"
    }
   ],
   "source": [
    "#Display distribution of math students according to age.\n",
    "ages_mat = data_mat[\"age\"].value_counts()\n",
    "labels_mat = (np.array(ages_mat.index))\n",
    "sizes_mat = (np.array((ages_mat / ages_mat.sum())*100))\n",
    "\n",
    "ages_por = data_por[\"age\"].value_counts()\n",
    "labels_por = (np.array(ages_por.index))\n",
    "sizes_por = (np.array((ages_por / ages_por.sum())*100))\n",
    "\n",
    "trace = go.Pie(labels=labels_mat, values=sizes_mat)\n",
    "layout = go.Layout(title=\"Аge of students\")\n",
    "dat = [trace]\n",
    "fig = go.Figure(data=dat, layout=layout)\n",
    "py.iplot(fig, filename=\"age\")\n"
   ]
  },
  {
   "cell_type": "code",
   "execution_count": 10,
   "metadata": {},
   "outputs": [
    {
     "data": {
      "application/vnd.plotly.v1+json": {
       "config": {
        "linkText": "Export to plot.ly",
        "plotlyServerURL": "https://plot.ly",
        "responsive": true,
        "showLink": false
       },
       "data": [
        {
         "labels": [
          17,
          16,
          18,
          15,
          19,
          20,
          21,
          22
         ],
         "type": "pie",
         "uid": "02a1cd92-76e1-44c9-8ea8-7f35f7744eb3",
         "values": [
          17,
          16,
          18,
          15,
          19,
          20,
          21,
          22
         ]
        }
       ],
       "layout": {
        "title": {
         "text": "Аge of students"
        }
       }
      },
      "text/html": [
       "<div>\n",
       "        \n",
       "        \n",
       "            <div id=\"7c38f22f-dcc3-46ba-ba9e-d37fa9b67a59\" class=\"plotly-graph-div\" style=\"height:525px; width:100%;\"></div>\n",
       "            <script type=\"text/javascript\">\n",
       "                require([\"plotly\"], function(Plotly) {\n",
       "                    window.PLOTLYENV=window.PLOTLYENV || {};\n",
       "                    window.PLOTLYENV.BASE_URL='https://plot.ly';\n",
       "                    \n",
       "                if (document.getElementById(\"7c38f22f-dcc3-46ba-ba9e-d37fa9b67a59\")) {\n",
       "                    Plotly.newPlot(\n",
       "                        '7c38f22f-dcc3-46ba-ba9e-d37fa9b67a59',\n",
       "                        [{\"labels\": [17, 16, 18, 15, 19, 20, 21, 22], \"type\": \"pie\", \"uid\": \"6ea11fcd-cb11-4c64-8922-872908f9814b\", \"values\": [17, 16, 18, 15, 19, 20, 21, 22]}],\n",
       "                        {\"title\": {\"text\": \"\\u0410ge of students\"}},\n",
       "                        {\"showLink\": false, \"linkText\": \"Export to plot.ly\", \"plotlyServerURL\": \"https://plot.ly\", \"responsive\": true}\n",
       "                    ).then(function(){\n",
       "                            \n",
       "var gd = document.getElementById('7c38f22f-dcc3-46ba-ba9e-d37fa9b67a59');\n",
       "var x = new MutationObserver(function (mutations, observer) {{\n",
       "        var display = window.getComputedStyle(gd).display;\n",
       "        if (!display || display === 'none') {{\n",
       "            console.log([gd, 'removed!']);\n",
       "            Plotly.purge(gd);\n",
       "            observer.disconnect();\n",
       "        }}\n",
       "}});\n",
       "\n",
       "// Listen for the removal of the full notebook cells\n",
       "var notebookContainer = gd.closest('#notebook-container');\n",
       "if (notebookContainer) {{\n",
       "    x.observe(notebookContainer, {childList: true});\n",
       "}}\n",
       "\n",
       "// Listen for the clearing of the current output cell\n",
       "var outputEl = gd.closest('.output');\n",
       "if (outputEl) {{\n",
       "    x.observe(outputEl, {childList: true});\n",
       "}}\n",
       "\n",
       "                        })\n",
       "                };\n",
       "                });\n",
       "            </script>\n",
       "        </div>"
      ]
     },
     "metadata": {},
     "output_type": "display_data"
    }
   ],
   "source": [
    "#Display distribution of Portuguese students according to age.\n",
    "trace = go.Pie(labels=labels_por, values=labels_por)\n",
    "layout = go.Layout(title=\"Аge of students\")\n",
    "dat = [trace]\n",
    "fig = go.Figure(data=dat, layout=layout)\n",
    "py.iplot(fig, filename=\"age\")"
   ]
  },
  {
   "cell_type": "code",
   "execution_count": 11,
   "metadata": {},
   "outputs": [
    {
     "data": {
      "application/vnd.plotly.v1+json": {
       "config": {
        "linkText": "Export to plot.ly",
        "plotlyServerURL": "https://plot.ly",
        "responsive": true,
        "showLink": false
       },
       "data": [
        {
         "hoverinfo": "label+percent",
         "labels": [
          "2 to 5 hours",
          "5 to 10 hours",
          "< 2 hours",
          "> 10 hours"
         ],
         "marker": {
          "colors": [
           "red",
           "blue",
           "grey",
           "yellow"
          ],
          "line": {
           "color": "#000000",
           "width": 2
          }
         },
         "textfont": {
          "size": 20
         },
         "textinfo": "value",
         "type": "pie",
         "uid": "6319039e-4bb6-4165-9c61-87a8e8f40dc4",
         "values": [
          198,
          105,
          65,
          27
         ]
        }
       ],
       "layout": {
        "title": {
         "text": "Study time -Math "
        }
       }
      },
      "text/html": [
       "<div>\n",
       "        \n",
       "        \n",
       "            <div id=\"8fd12c3a-7b1a-41fd-82e5-827b9b8a6ce9\" class=\"plotly-graph-div\" style=\"height:525px; width:100%;\"></div>\n",
       "            <script type=\"text/javascript\">\n",
       "                require([\"plotly\"], function(Plotly) {\n",
       "                    window.PLOTLYENV=window.PLOTLYENV || {};\n",
       "                    window.PLOTLYENV.BASE_URL='https://plot.ly';\n",
       "                    \n",
       "                if (document.getElementById(\"8fd12c3a-7b1a-41fd-82e5-827b9b8a6ce9\")) {\n",
       "                    Plotly.newPlot(\n",
       "                        '8fd12c3a-7b1a-41fd-82e5-827b9b8a6ce9',\n",
       "                        [{\"hoverinfo\": \"label+percent\", \"labels\": [\"2 to 5 hours\", \"5 to 10 hours\", \"< 2 hours\", \"> 10 hours\"], \"marker\": {\"colors\": [\"red\", \"blue\", \"grey\", \"yellow\"], \"line\": {\"color\": \"#000000\", \"width\": 2}}, \"textfont\": {\"size\": 20}, \"textinfo\": \"value\", \"type\": \"pie\", \"uid\": \"2e9113b1-691d-46f3-b4fa-e2d8b8dab9d1\", \"values\": [198, 105, 65, 27]}],\n",
       "                        {\"title\": {\"text\": \"Study time -Math \"}},\n",
       "                        {\"showLink\": false, \"linkText\": \"Export to plot.ly\", \"plotlyServerURL\": \"https://plot.ly\", \"responsive\": true}\n",
       "                    ).then(function(){\n",
       "                            \n",
       "var gd = document.getElementById('8fd12c3a-7b1a-41fd-82e5-827b9b8a6ce9');\n",
       "var x = new MutationObserver(function (mutations, observer) {{\n",
       "        var display = window.getComputedStyle(gd).display;\n",
       "        if (!display || display === 'none') {{\n",
       "            console.log([gd, 'removed!']);\n",
       "            Plotly.purge(gd);\n",
       "            observer.disconnect();\n",
       "        }}\n",
       "}});\n",
       "\n",
       "// Listen for the removal of the full notebook cells\n",
       "var notebookContainer = gd.closest('#notebook-container');\n",
       "if (notebookContainer) {{\n",
       "    x.observe(notebookContainer, {childList: true});\n",
       "}}\n",
       "\n",
       "// Listen for the clearing of the current output cell\n",
       "var outputEl = gd.closest('.output');\n",
       "if (outputEl) {{\n",
       "    x.observe(outputEl, {childList: true});\n",
       "}}\n",
       "\n",
       "                        })\n",
       "                };\n",
       "                });\n",
       "            </script>\n",
       "        </div>"
      ]
     },
     "metadata": {},
     "output_type": "display_data"
    }
   ],
   "source": [
    "#Display how many hours per week math students spend on their studies.\n",
    "data_mat['st_time'] = np.nan\n",
    "df = [data_mat]\n",
    "\n",
    "for col in df:\n",
    "    col.loc[col['studytime'] == 1 , 'st_time'] = '< 2 hours'\n",
    "    col.loc[col['studytime'] == 2 , 'st_time'] = '2 to 5 hours'\n",
    "    col.loc[col['studytime'] == 3, 'st_time'] = '5 to 10 hours'\n",
    "    col.loc[col['studytime'] == 4, 'st_time'] = '> 10 hours'  \n",
    " \n",
    "labels = data_mat[\"st_time\"].unique().tolist()\n",
    "amount = data_mat[\"st_time\"].value_counts().tolist()\n",
    "\n",
    "colors = [\"red\", \"blue\", \"grey\", \"yellow\"]\n",
    "\n",
    "trace = go.Pie(labels=labels, values=amount,\n",
    "               hoverinfo='label+percent', textinfo='value', \n",
    "               textfont=dict(size=20),\n",
    "               marker=dict(colors=colors, \n",
    "                           line=dict(color='#000000', width=2)))\n",
    "dt = [trace]\n",
    "layout = go.Layout(title=\"Study time -Math \")\n",
    "\n",
    "fig = go.Figure(data=dt, layout=layout)\n",
    "iplot(fig, filename='pie')"
   ]
  },
  {
   "cell_type": "code",
   "execution_count": 12,
   "metadata": {},
   "outputs": [
    {
     "data": {
      "application/vnd.plotly.v1+json": {
       "config": {
        "linkText": "Export to plot.ly",
        "plotlyServerURL": "https://plot.ly",
        "responsive": true,
        "showLink": false
       },
       "data": [
        {
         "hoverinfo": "label+percent",
         "labels": [
          "2 to 5 hours",
          "5 to 10 hours",
          "< 2 hours",
          "> 10 hours"
         ],
         "marker": {
          "colors": [
           "red",
           "blue",
           "grey",
           "yellow"
          ],
          "line": {
           "color": "#000000",
           "width": 2
          }
         },
         "textfont": {
          "size": 20
         },
         "textinfo": "value",
         "type": "pie",
         "uid": "db01f4e4-d443-40b1-a71b-5d604856f7fb",
         "values": [
          305,
          212,
          97,
          35
         ]
        }
       ],
       "layout": {
        "title": {
         "text": "Study time - Portugese"
        }
       }
      },
      "text/html": [
       "<div>\n",
       "        \n",
       "        \n",
       "            <div id=\"12f2f1cb-f687-4788-98ce-8e5c36b587c8\" class=\"plotly-graph-div\" style=\"height:525px; width:100%;\"></div>\n",
       "            <script type=\"text/javascript\">\n",
       "                require([\"plotly\"], function(Plotly) {\n",
       "                    window.PLOTLYENV=window.PLOTLYENV || {};\n",
       "                    window.PLOTLYENV.BASE_URL='https://plot.ly';\n",
       "                    \n",
       "                if (document.getElementById(\"12f2f1cb-f687-4788-98ce-8e5c36b587c8\")) {\n",
       "                    Plotly.newPlot(\n",
       "                        '12f2f1cb-f687-4788-98ce-8e5c36b587c8',\n",
       "                        [{\"hoverinfo\": \"label+percent\", \"labels\": [\"2 to 5 hours\", \"5 to 10 hours\", \"< 2 hours\", \"> 10 hours\"], \"marker\": {\"colors\": [\"red\", \"blue\", \"grey\", \"yellow\"], \"line\": {\"color\": \"#000000\", \"width\": 2}}, \"textfont\": {\"size\": 20}, \"textinfo\": \"value\", \"type\": \"pie\", \"uid\": \"9644f648-b891-469a-ba7b-96f998b22768\", \"values\": [305, 212, 97, 35]}],\n",
       "                        {\"title\": {\"text\": \"Study time - Portugese\"}},\n",
       "                        {\"showLink\": false, \"linkText\": \"Export to plot.ly\", \"plotlyServerURL\": \"https://plot.ly\", \"responsive\": true}\n",
       "                    ).then(function(){\n",
       "                            \n",
       "var gd = document.getElementById('12f2f1cb-f687-4788-98ce-8e5c36b587c8');\n",
       "var x = new MutationObserver(function (mutations, observer) {{\n",
       "        var display = window.getComputedStyle(gd).display;\n",
       "        if (!display || display === 'none') {{\n",
       "            console.log([gd, 'removed!']);\n",
       "            Plotly.purge(gd);\n",
       "            observer.disconnect();\n",
       "        }}\n",
       "}});\n",
       "\n",
       "// Listen for the removal of the full notebook cells\n",
       "var notebookContainer = gd.closest('#notebook-container');\n",
       "if (notebookContainer) {{\n",
       "    x.observe(notebookContainer, {childList: true});\n",
       "}}\n",
       "\n",
       "// Listen for the clearing of the current output cell\n",
       "var outputEl = gd.closest('.output');\n",
       "if (outputEl) {{\n",
       "    x.observe(outputEl, {childList: true});\n",
       "}}\n",
       "\n",
       "                        })\n",
       "                };\n",
       "                });\n",
       "            </script>\n",
       "        </div>"
      ]
     },
     "metadata": {},
     "output_type": "display_data"
    }
   ],
   "source": [
    "#Display how many hours per week Portugese students spend on their studies.\n",
    "data_por['st_time'] = np.nan\n",
    "df = [data_por]\n",
    "\n",
    "for col in df:\n",
    "    col.loc[col['studytime'] == 1 , 'st_time'] = '< 2 hours'\n",
    "    col.loc[col['studytime'] == 2 , 'st_time'] = '2 to 5 hours'\n",
    "    col.loc[col['studytime'] == 3, 'st_time'] = '5 to 10 hours'\n",
    "    col.loc[col['studytime'] == 4, 'st_time'] = '> 10 hours'  \n",
    " \n",
    "labels = data_por[\"st_time\"].unique().tolist()\n",
    "amount = data_por[\"st_time\"].value_counts().tolist()\n",
    "\n",
    "colors = [\"red\", \"blue\", \"grey\", \"yellow\"]\n",
    "\n",
    "trace = go.Pie(labels=labels, values=amount, hoverinfo='label+percent', textinfo='value', \n",
    "               textfont=dict(size=20), marker=dict(colors=colors, line=dict(color='#000000', width=2)))\n",
    "\n",
    "dt = [trace]\n",
    "layout = go.Layout(title=\"Study time - Portugese\")\n",
    "\n",
    "fig = go.Figure(data=dt, layout=layout)\n",
    "iplot(fig, filename='pie')"
   ]
  },
  {
   "cell_type": "code",
   "execution_count": 13,
   "metadata": {},
   "outputs": [
    {
     "data": {
      "text/plain": [
       "Text(0.5, 1.0, 'Students address for Portugese courses: U - urban City, R - rural non City')"
      ]
     },
     "execution_count": 13,
     "metadata": {},
     "output_type": "execute_result"
    },
    {
     "data": {
      "image/png": "[encoded data removed]",
      "text/plain": [
       "<Figure size 491.5x432 with 1 Axes>"
      ]
     },
     "metadata": {
      "needs_background": "light"
     },
     "output_type": "display_data"
    },
    {
     "data": {
      "image/png": "[encoded data removed]",
      "text/plain": [
       "<Figure size 491.5x432 with 1 Axes>"
      ]
     },
     "metadata": {
      "needs_background": "light"
     },
     "output_type": "display_data"
    }
   ],
   "source": [
    "#Display math students travling time urban vs rural.\n",
    "sns.catplot(x=\"address\", kind=\"count\",hue = \"traveltime\",palette=\"brg\", data=data_mat, height = 6)\n",
    "plt.title(\"Students address for Mathematics courses: U - urban City, R - rural non City\")\n",
    "\n",
    "#Display Portugese students travling time urban vs rural.\n",
    "sns.catplot(x=\"address\", kind=\"count\",hue = \"traveltime\",palette=\"brg\", data=data_por, height = 6)\n",
    "plt.title(\"Students address for Portugese courses: U - urban City, R - rural non City\")"
   ]
  },
  {
   "cell_type": "code",
   "execution_count": 14,
   "metadata": {},
   "outputs": [
    {
     "data": {
      "text/html": [
       "<div>\n",
       "<style scoped>\n",
       "    .dataframe tbody tr th:only-of-type {\n",
       "        vertical-align: middle;\n",
       "    }\n",
       "\n",
       "    .dataframe tbody tr th {\n",
       "        vertical-align: top;\n",
       "    }\n",
       "\n",
       "    .dataframe thead th {\n",
       "        text-align: right;\n",
       "    }\n",
       "</style>\n",
       "<table border=\"1\" class=\"dataframe\">\n",
       "  <thead>\n",
       "    <tr style=\"text-align: right;\">\n",
       "      <th></th>\n",
       "      <th>school</th>\n",
       "      <th>sex</th>\n",
       "      <th>age</th>\n",
       "      <th>address</th>\n",
       "      <th>famsize</th>\n",
       "      <th>Pstatus</th>\n",
       "      <th>Medu</th>\n",
       "      <th>Fedu</th>\n",
       "      <th>Mjob</th>\n",
       "      <th>Fjob</th>\n",
       "      <th>reason</th>\n",
       "      <th>guardian</th>\n",
       "      <th>traveltime</th>\n",
       "      <th>studytime</th>\n",
       "      <th>failures</th>\n",
       "      <th>schoolsup</th>\n",
       "      <th>famsup</th>\n",
       "      <th>paid</th>\n",
       "      <th>activities</th>\n",
       "      <th>nursery</th>\n",
       "      <th>higher</th>\n",
       "      <th>internet</th>\n",
       "      <th>romantic</th>\n",
       "      <th>famrel</th>\n",
       "      <th>freetime</th>\n",
       "      <th>goout</th>\n",
       "      <th>Dalc</th>\n",
       "      <th>Walc</th>\n",
       "      <th>health</th>\n",
       "      <th>absences</th>\n",
       "      <th>G1</th>\n",
       "      <th>G2</th>\n",
       "      <th>G3</th>\n",
       "      <th>st_time</th>\n",
       "      <th>Category_Grade</th>\n",
       "    </tr>\n",
       "  </thead>\n",
       "  <tbody>\n",
       "    <tr>\n",
       "      <th>0</th>\n",
       "      <td>GP</td>\n",
       "      <td>F</td>\n",
       "      <td>18</td>\n",
       "      <td>U</td>\n",
       "      <td>GT3</td>\n",
       "      <td>A</td>\n",
       "      <td>4</td>\n",
       "      <td>4</td>\n",
       "      <td>at_home</td>\n",
       "      <td>teacher</td>\n",
       "      <td>course</td>\n",
       "      <td>mother</td>\n",
       "      <td>2</td>\n",
       "      <td>2</td>\n",
       "      <td>0</td>\n",
       "      <td>yes</td>\n",
       "      <td>no</td>\n",
       "      <td>no</td>\n",
       "      <td>no</td>\n",
       "      <td>yes</td>\n",
       "      <td>yes</td>\n",
       "      <td>no</td>\n",
       "      <td>no</td>\n",
       "      <td>4</td>\n",
       "      <td>3</td>\n",
       "      <td>4</td>\n",
       "      <td>1</td>\n",
       "      <td>1</td>\n",
       "      <td>3</td>\n",
       "      <td>6</td>\n",
       "      <td>5</td>\n",
       "      <td>6</td>\n",
       "      <td>6</td>\n",
       "      <td>2 to 5 hours</td>\n",
       "      <td>POOR</td>\n",
       "    </tr>\n",
       "    <tr>\n",
       "      <th>1</th>\n",
       "      <td>GP</td>\n",
       "      <td>F</td>\n",
       "      <td>17</td>\n",
       "      <td>U</td>\n",
       "      <td>GT3</td>\n",
       "      <td>T</td>\n",
       "      <td>1</td>\n",
       "      <td>1</td>\n",
       "      <td>at_home</td>\n",
       "      <td>other</td>\n",
       "      <td>course</td>\n",
       "      <td>father</td>\n",
       "      <td>1</td>\n",
       "      <td>2</td>\n",
       "      <td>0</td>\n",
       "      <td>no</td>\n",
       "      <td>yes</td>\n",
       "      <td>no</td>\n",
       "      <td>no</td>\n",
       "      <td>no</td>\n",
       "      <td>yes</td>\n",
       "      <td>yes</td>\n",
       "      <td>no</td>\n",
       "      <td>5</td>\n",
       "      <td>3</td>\n",
       "      <td>3</td>\n",
       "      <td>1</td>\n",
       "      <td>1</td>\n",
       "      <td>3</td>\n",
       "      <td>4</td>\n",
       "      <td>5</td>\n",
       "      <td>5</td>\n",
       "      <td>6</td>\n",
       "      <td>2 to 5 hours</td>\n",
       "      <td>POOR</td>\n",
       "    </tr>\n",
       "    <tr>\n",
       "      <th>2</th>\n",
       "      <td>GP</td>\n",
       "      <td>F</td>\n",
       "      <td>15</td>\n",
       "      <td>U</td>\n",
       "      <td>LE3</td>\n",
       "      <td>T</td>\n",
       "      <td>1</td>\n",
       "      <td>1</td>\n",
       "      <td>at_home</td>\n",
       "      <td>other</td>\n",
       "      <td>other</td>\n",
       "      <td>mother</td>\n",
       "      <td>1</td>\n",
       "      <td>2</td>\n",
       "      <td>3</td>\n",
       "      <td>yes</td>\n",
       "      <td>no</td>\n",
       "      <td>yes</td>\n",
       "      <td>no</td>\n",
       "      <td>yes</td>\n",
       "      <td>yes</td>\n",
       "      <td>yes</td>\n",
       "      <td>no</td>\n",
       "      <td>4</td>\n",
       "      <td>3</td>\n",
       "      <td>2</td>\n",
       "      <td>2</td>\n",
       "      <td>3</td>\n",
       "      <td>3</td>\n",
       "      <td>10</td>\n",
       "      <td>7</td>\n",
       "      <td>8</td>\n",
       "      <td>10</td>\n",
       "      <td>2 to 5 hours</td>\n",
       "      <td>GOOD</td>\n",
       "    </tr>\n",
       "    <tr>\n",
       "      <th>3</th>\n",
       "      <td>GP</td>\n",
       "      <td>F</td>\n",
       "      <td>15</td>\n",
       "      <td>U</td>\n",
       "      <td>GT3</td>\n",
       "      <td>T</td>\n",
       "      <td>4</td>\n",
       "      <td>2</td>\n",
       "      <td>health</td>\n",
       "      <td>services</td>\n",
       "      <td>home</td>\n",
       "      <td>mother</td>\n",
       "      <td>1</td>\n",
       "      <td>3</td>\n",
       "      <td>0</td>\n",
       "      <td>no</td>\n",
       "      <td>yes</td>\n",
       "      <td>yes</td>\n",
       "      <td>yes</td>\n",
       "      <td>yes</td>\n",
       "      <td>yes</td>\n",
       "      <td>yes</td>\n",
       "      <td>yes</td>\n",
       "      <td>3</td>\n",
       "      <td>2</td>\n",
       "      <td>2</td>\n",
       "      <td>1</td>\n",
       "      <td>1</td>\n",
       "      <td>5</td>\n",
       "      <td>2</td>\n",
       "      <td>15</td>\n",
       "      <td>14</td>\n",
       "      <td>15</td>\n",
       "      <td>5 to 10 hours</td>\n",
       "      <td>Excellent</td>\n",
       "    </tr>\n",
       "    <tr>\n",
       "      <th>4</th>\n",
       "      <td>GP</td>\n",
       "      <td>F</td>\n",
       "      <td>16</td>\n",
       "      <td>U</td>\n",
       "      <td>GT3</td>\n",
       "      <td>T</td>\n",
       "      <td>3</td>\n",
       "      <td>3</td>\n",
       "      <td>other</td>\n",
       "      <td>other</td>\n",
       "      <td>home</td>\n",
       "      <td>father</td>\n",
       "      <td>1</td>\n",
       "      <td>2</td>\n",
       "      <td>0</td>\n",
       "      <td>no</td>\n",
       "      <td>yes</td>\n",
       "      <td>yes</td>\n",
       "      <td>no</td>\n",
       "      <td>yes</td>\n",
       "      <td>yes</td>\n",
       "      <td>no</td>\n",
       "      <td>no</td>\n",
       "      <td>4</td>\n",
       "      <td>3</td>\n",
       "      <td>2</td>\n",
       "      <td>1</td>\n",
       "      <td>2</td>\n",
       "      <td>5</td>\n",
       "      <td>4</td>\n",
       "      <td>6</td>\n",
       "      <td>10</td>\n",
       "      <td>10</td>\n",
       "      <td>2 to 5 hours</td>\n",
       "      <td>GOOD</td>\n",
       "    </tr>\n",
       "  </tbody>\n",
       "</table>\n",
       "</div>"
      ],
      "text/plain": [
       "  school sex  age address famsize Pstatus  Medu  Fedu     Mjob      Fjob  \\\n",
       "0     GP   F   18       U     GT3       A     4     4  at_home   teacher   \n",
       "1     GP   F   17       U     GT3       T     1     1  at_home     other   \n",
       "2     GP   F   15       U     LE3       T     1     1  at_home     other   \n",
       "3     GP   F   15       U     GT3       T     4     2   health  services   \n",
       "4     GP   F   16       U     GT3       T     3     3    other     other   \n",
       "\n",
       "   reason guardian  traveltime  studytime  failures schoolsup famsup paid  \\\n",
       "0  course   mother           2          2         0       yes     no   no   \n",
       "1  course   father           1          2         0        no    yes   no   \n",
       "2   other   mother           1          2         3       yes     no  yes   \n",
       "3    home   mother           1          3         0        no    yes  yes   \n",
       "4    home   father           1          2         0        no    yes  yes   \n",
       "\n",
       "  activities nursery higher internet romantic  famrel  freetime  goout  Dalc  \\\n",
       "0         no     yes    yes       no       no       4         3      4     1   \n",
       "1         no      no    yes      yes       no       5         3      3     1   \n",
       "2         no     yes    yes      yes       no       4         3      2     2   \n",
       "3        yes     yes    yes      yes      yes       3         2      2     1   \n",
       "4         no     yes    yes       no       no       4         3      2     1   \n",
       "\n",
       "   Walc  health  absences  G1  G2  G3        st_time Category_Grade  \n",
       "0     1       3         6   5   6   6   2 to 5 hours           POOR  \n",
       "1     1       3         4   5   5   6   2 to 5 hours           POOR  \n",
       "2     3       3        10   7   8  10   2 to 5 hours           GOOD  \n",
       "3     1       5         2  15  14  15  5 to 10 hours      Excellent  \n",
       "4     2       5         4   6  10  10   2 to 5 hours           GOOD  "
      ]
     },
     "execution_count": 14,
     "metadata": {},
     "output_type": "execute_result"
    }
   ],
   "source": [
    "#Categories math & Portuguese students according to their grade.\n",
    "# 15-20 \tExcellent\n",
    "# 10-15 \tGood\n",
    "# 0-9       Poor   \n",
    "\n",
    "data_mat['Category_Grade'] = 'na'\n",
    "data_mat.loc[(data_mat.G3  >= 15) & (data_mat.G3 <= 20), 'Category_Grade'] = 'Excellent' \n",
    "data_mat.loc[(data_mat.G3  >= 10) & (data_mat.G3 <= 14), 'Category_Grade'] = 'GOOD' \n",
    "data_mat.loc[(data_mat.G3  >= 0) & (data_mat.G3 <= 9), 'Category_Grade'] = 'POOR'\n",
    "\n",
    "data_por['Category_Grade'] = 'na'\n",
    "data_por.loc[(data_por.G3  >= 15) & (data_por.G3 <= 20), 'Category_Grade'] = 'Excellent' \n",
    "data_por.loc[(data_por.G3  >= 10) & (data_por.G3 <= 14), 'Category_Grade'] = 'GOOD' \n",
    "data_por.loc[(data_por.G3  >= 0) & (data_por.G3 <= 9), 'Category_Grade'] = 'POOR' \n",
    "\n",
    "\n",
    "data_mat.head(5)"
   ]
  },
  {
   "cell_type": "code",
   "execution_count": 15,
   "metadata": {},
   "outputs": [
    {
     "data": {
      "text/plain": [
       "Text(0, 0.5, 'Number of Student')"
      ]
     },
     "execution_count": 15,
     "metadata": {},
     "output_type": "execute_result"
    },
    {
     "data": {
      "image/png": "[encoded data removed]",
      "text/plain": [
       "<Figure size 576x432 with 1 Axes>"
      ]
     },
     "metadata": {
      "needs_background": "light"
     },
     "output_type": "display_data"
    },
    {
     "data": {
      "image/png": "[encoded data removed]",
      "text/plain": [
       "<Figure size 576x432 with 1 Axes>"
      ]
     },
     "metadata": {
      "needs_background": "light"
     },
     "output_type": "display_data"
    }
   ],
   "source": [
    "#Display final grade category in math and Portuguese according to category\n",
    "plt.figure(figsize=(8,6))\n",
    "sns.countplot(data_mat.Category_Grade, order=[\"POOR\",\"GOOD\",\"Excellent\"], palette='Set1')\n",
    "plt.title('Final Grade - Mathematics',fontsize=20)\n",
    "plt.xlabel('Final Grade', fontsize=16)\n",
    "plt.ylabel('Number of Student', fontsize=16)\n",
    "\n",
    "plt.figure(figsize=(8,6))\n",
    "sns.countplot(data_por.Category_Grade, order=[\"POOR\",\"GOOD\",\"Excellent\"], palette='Set1')\n",
    "plt.title('Final Grade - Portuguese',fontsize=20)\n",
    "plt.xlabel('Final Grade', fontsize=16)\n",
    "plt.ylabel('Number of Student', fontsize=16)"
   ]
  },
  {
   "cell_type": "code",
   "execution_count": 16,
   "metadata": {},
   "outputs": [
    {
     "data": {
      "text/plain": [
       "(array([ 0.5,  1.5,  2.5,  3.5,  4.5,  5.5,  6.5,  7.5,  8.5,  9.5, 10.5,\n",
       "        11.5, 12.5, 13.5, 14.5, 15.5]), <a list of 16 Text yticklabel objects>)"
      ]
     },
     "execution_count": 16,
     "metadata": {},
     "output_type": "execute_result"
    },
    {
     "data": {
      "image/png": "[encoded data removed]",
      "text/plain": [
       "<Figure size 720x720 with 2 Axes>"
      ]
     },
     "metadata": {
      "needs_background": "light"
     },
     "output_type": "display_data"
    },
    {
     "data": {
      "image/png": "[encoded data removed]",
      "text/plain": [
       "<Figure size 720x720 with 2 Axes>"
      ]
     },
     "metadata": {
      "needs_background": "light"
     },
     "output_type": "display_data"
    }
   ],
   "source": [
    "# Display crrelation between features for math and Portugase students\n",
    "plt.figure(figsize=(10,10))\n",
    "sns.heatmap(data_mat.corr(),annot = True,fmt = \".2f\",cbar = True)\n",
    "plt.title('Crrelation - Mathematics',fontsize=20)\n",
    "plt.xticks(rotation=90)\n",
    "plt.yticks(rotation = 0)\n",
    "\n",
    "plt.figure(figsize=(10,10))\n",
    "sns.heatmap(data_por.corr(),annot = True,fmt = \".2f\",cbar = True)\n",
    "plt.title('Crrelation - Portuguese',fontsize=20)\n",
    "plt.xticks(rotation=90)\n",
    "plt.yticks(rotation = 0)"
   ]
  },
  {
   "cell_type": "code",
   "execution_count": 17,
   "metadata": {},
   "outputs": [
    {
     "data": {
      "image/png": "[encoded data removed]",
      "text/plain": [
       "<Figure size 1008x360 with 2 Axes>"
      ]
     },
     "metadata": {
      "needs_background": "light"
     },
     "output_type": "display_data"
    }
   ],
   "source": [
    "# Display grade distibution for math and Portuguese according G1,G2 & G3 semesters.\n",
    "fig = plt.figure(figsize=(14,5))\n",
    "plt.style.use('seaborn-white')\n",
    "ax1 = plt.subplot(121)\n",
    "plt.hist([data_mat['G1'], data_mat['G2'], data_mat['G3']], label=['G1', 'G2', 'G3'], color=['#48D1CC', '#FF7F50', '#778899' ], alpha=0.8)\n",
    "plt.legend(fontsize=14)\n",
    "plt.xlabel('Grade', fontsize=18)\n",
    "plt.ylabel('Frequency', fontsize=18)\n",
    "plt.title('Mathematics Grades', fontsize=20)\n",
    "ax1.spines['top'].set_visible(False)\n",
    "ax1.spines['right'].set_visible(False)\n",
    "plt.ylim(0,220)\n",
    "\n",
    "ax2 = plt.subplot(122)\n",
    "plt.hist([data_por['G1'], data_por['G2'], data_por['G3']], label=['G1', 'G2', 'G3'], color=['#48D1CC', '#FF7F50', '#778899' ], alpha=0.8)\n",
    "plt.legend(fontsize=14)\n",
    "plt.xlabel('Grade', fontsize=18)\n",
    "plt.ylabel('Frequency', fontsize=18)\n",
    "plt.title('Portuguese Grades', fontsize=20)\n",
    "ax2.spines['top'].set_visible(False)\n",
    "ax2.spines['right'].set_visible(False)\n",
    "plt.ylim(0,220)\n",
    "\n",
    "plt.show()"
   ]
  },
  {
   "cell_type": "code",
   "execution_count": 18,
   "metadata": {},
   "outputs": [
    {
     "data": {
      "image/png": "[encoded data removed]",
      "text/plain": [
       "<Figure size 1008x720 with 4 Axes>"
      ]
     },
     "metadata": {},
     "output_type": "display_data"
    }
   ],
   "source": [
    "# Display distribution of math and Portuguese students absences\n",
    "fig = plt.figure(figsize=(14,10))\n",
    "\n",
    "ax1 = plt.subplot(221)\n",
    "sns.countplot(data_mat['absences'], color='#48D1CC')\n",
    "plt.title('Absences count in Math', fontsize=14)\n",
    "plt.xlabel('number of absences', fontsize=12)\n",
    "ax1.spines['top'].set_visible(False)\n",
    "ax1.spines['right'].set_visible(False)\n",
    "plt.xlim((0,32))\n",
    "\n",
    "ax2 = plt.subplot(222)\n",
    "sns.countplot(data_por['absences'], color='#FF7F50')\n",
    "plt.title('Absences count in Portuguese', fontsize=14)\n",
    "plt.xlabel('number of absences', fontsize=12)\n",
    "ax2.spines['top'].set_visible(False)\n",
    "ax2.spines['right'].set_visible(False)\n",
    "plt.xlim((0,32))\n",
    "\n",
    "ax3 = plt.subplot(223)\n",
    "sns.regplot(data_mat['absences'], data_mat['G3'], x_estimator=np.mean, color='#48D1CC')\n",
    "plt.title('Math: G3 vs absences', fontsize=14)\n",
    "plt.xlabel('Absences: number of absences', fontsize=12)\n",
    "ax3.spines['top'].set_visible(False)\n",
    "ax3.spines['right'].set_visible(False)\n",
    "plt.xlim((0,32))\n",
    "\n",
    "ax4 = plt.subplot(224)\n",
    "sns.regplot(data_por['absences'], data_por['G3'], x_estimator=np.mean, color='#FF7F50')\n",
    "plt.title('Portuguese: G3 vs absences', fontsize=14)\n",
    "plt.xlabel('Absences: number of absences', fontsize=12)\n",
    "ax4.spines['top'].set_visible(False)\n",
    "ax4.spines['right'].set_visible(False)\n",
    "plt.xlim((0,32))\n",
    "\n",
    "plt.tight_layout()"
   ]
  },
  {
   "cell_type": "code",
   "execution_count": 19,
   "metadata": {},
   "outputs": [
    {
     "data": {
      "text/html": [
       "<div>\n",
       "<style scoped>\n",
       "    .dataframe tbody tr th:only-of-type {\n",
       "        vertical-align: middle;\n",
       "    }\n",
       "\n",
       "    .dataframe tbody tr th {\n",
       "        vertical-align: top;\n",
       "    }\n",
       "\n",
       "    .dataframe thead th {\n",
       "        text-align: right;\n",
       "    }\n",
       "</style>\n",
       "<table border=\"1\" class=\"dataframe\">\n",
       "  <thead>\n",
       "    <tr style=\"text-align: right;\">\n",
       "      <th></th>\n",
       "      <th>school</th>\n",
       "      <th>sex</th>\n",
       "      <th>age</th>\n",
       "      <th>address</th>\n",
       "      <th>famsize</th>\n",
       "      <th>Pstatus</th>\n",
       "      <th>failures</th>\n",
       "      <th>schoolsup</th>\n",
       "      <th>famsup</th>\n",
       "      <th>paid</th>\n",
       "      <th>activities</th>\n",
       "      <th>nursery</th>\n",
       "      <th>higher</th>\n",
       "      <th>internet</th>\n",
       "      <th>romantic</th>\n",
       "      <th>famrel</th>\n",
       "      <th>freetime</th>\n",
       "      <th>goout</th>\n",
       "      <th>Dalc</th>\n",
       "      <th>Walc</th>\n",
       "      <th>health</th>\n",
       "      <th>absences</th>\n",
       "      <th>G3</th>\n",
       "      <th>Fjob_health</th>\n",
       "      <th>Fjob_other</th>\n",
       "      <th>Fjob_services</th>\n",
       "      <th>Fjob_teacher</th>\n",
       "      <th>Mjob_health</th>\n",
       "      <th>Mjob_other</th>\n",
       "      <th>Mjob_services</th>\n",
       "      <th>Mjob_teacher</th>\n",
       "      <th>reason_home</th>\n",
       "      <th>reason_other</th>\n",
       "      <th>reason_reputation</th>\n",
       "      <th>guardian_mother</th>\n",
       "      <th>guardian_other</th>\n",
       "      <th>Medu_1</th>\n",
       "      <th>Medu_2</th>\n",
       "      <th>Medu_3</th>\n",
       "      <th>Medu_4</th>\n",
       "      <th>Fedu_1</th>\n",
       "      <th>Fedu_2</th>\n",
       "      <th>Fedu_3</th>\n",
       "      <th>Fedu_4</th>\n",
       "      <th>traveltime_2</th>\n",
       "      <th>traveltime_3</th>\n",
       "      <th>traveltime_4</th>\n",
       "      <th>studytime_2</th>\n",
       "      <th>studytime_3</th>\n",
       "      <th>studytime_4</th>\n",
       "    </tr>\n",
       "  </thead>\n",
       "  <tbody>\n",
       "    <tr>\n",
       "      <th>0</th>\n",
       "      <td>1</td>\n",
       "      <td>1</td>\n",
       "      <td>18</td>\n",
       "      <td>1</td>\n",
       "      <td>0</td>\n",
       "      <td>0</td>\n",
       "      <td>0</td>\n",
       "      <td>1</td>\n",
       "      <td>0</td>\n",
       "      <td>0</td>\n",
       "      <td>0</td>\n",
       "      <td>1</td>\n",
       "      <td>1</td>\n",
       "      <td>0</td>\n",
       "      <td>0</td>\n",
       "      <td>4</td>\n",
       "      <td>3</td>\n",
       "      <td>4</td>\n",
       "      <td>1</td>\n",
       "      <td>1</td>\n",
       "      <td>3</td>\n",
       "      <td>6</td>\n",
       "      <td>6</td>\n",
       "      <td>0</td>\n",
       "      <td>0</td>\n",
       "      <td>0</td>\n",
       "      <td>1</td>\n",
       "      <td>0</td>\n",
       "      <td>0</td>\n",
       "      <td>0</td>\n",
       "      <td>0</td>\n",
       "      <td>0</td>\n",
       "      <td>0</td>\n",
       "      <td>0</td>\n",
       "      <td>1</td>\n",
       "      <td>0</td>\n",
       "      <td>0</td>\n",
       "      <td>0</td>\n",
       "      <td>0</td>\n",
       "      <td>1</td>\n",
       "      <td>0</td>\n",
       "      <td>0</td>\n",
       "      <td>0</td>\n",
       "      <td>1</td>\n",
       "      <td>1</td>\n",
       "      <td>0</td>\n",
       "      <td>0</td>\n",
       "      <td>1</td>\n",
       "      <td>0</td>\n",
       "      <td>0</td>\n",
       "    </tr>\n",
       "    <tr>\n",
       "      <th>1</th>\n",
       "      <td>1</td>\n",
       "      <td>1</td>\n",
       "      <td>17</td>\n",
       "      <td>1</td>\n",
       "      <td>0</td>\n",
       "      <td>1</td>\n",
       "      <td>0</td>\n",
       "      <td>0</td>\n",
       "      <td>1</td>\n",
       "      <td>0</td>\n",
       "      <td>0</td>\n",
       "      <td>0</td>\n",
       "      <td>1</td>\n",
       "      <td>1</td>\n",
       "      <td>0</td>\n",
       "      <td>5</td>\n",
       "      <td>3</td>\n",
       "      <td>3</td>\n",
       "      <td>1</td>\n",
       "      <td>1</td>\n",
       "      <td>3</td>\n",
       "      <td>4</td>\n",
       "      <td>6</td>\n",
       "      <td>0</td>\n",
       "      <td>1</td>\n",
       "      <td>0</td>\n",
       "      <td>0</td>\n",
       "      <td>0</td>\n",
       "      <td>0</td>\n",
       "      <td>0</td>\n",
       "      <td>0</td>\n",
       "      <td>0</td>\n",
       "      <td>0</td>\n",
       "      <td>0</td>\n",
       "      <td>0</td>\n",
       "      <td>0</td>\n",
       "      <td>1</td>\n",
       "      <td>0</td>\n",
       "      <td>0</td>\n",
       "      <td>0</td>\n",
       "      <td>1</td>\n",
       "      <td>0</td>\n",
       "      <td>0</td>\n",
       "      <td>0</td>\n",
       "      <td>0</td>\n",
       "      <td>0</td>\n",
       "      <td>0</td>\n",
       "      <td>1</td>\n",
       "      <td>0</td>\n",
       "      <td>0</td>\n",
       "    </tr>\n",
       "    <tr>\n",
       "      <th>2</th>\n",
       "      <td>1</td>\n",
       "      <td>1</td>\n",
       "      <td>15</td>\n",
       "      <td>1</td>\n",
       "      <td>1</td>\n",
       "      <td>1</td>\n",
       "      <td>3</td>\n",
       "      <td>1</td>\n",
       "      <td>0</td>\n",
       "      <td>1</td>\n",
       "      <td>0</td>\n",
       "      <td>1</td>\n",
       "      <td>1</td>\n",
       "      <td>1</td>\n",
       "      <td>0</td>\n",
       "      <td>4</td>\n",
       "      <td>3</td>\n",
       "      <td>2</td>\n",
       "      <td>2</td>\n",
       "      <td>3</td>\n",
       "      <td>3</td>\n",
       "      <td>10</td>\n",
       "      <td>10</td>\n",
       "      <td>0</td>\n",
       "      <td>1</td>\n",
       "      <td>0</td>\n",
       "      <td>0</td>\n",
       "      <td>0</td>\n",
       "      <td>0</td>\n",
       "      <td>0</td>\n",
       "      <td>0</td>\n",
       "      <td>0</td>\n",
       "      <td>1</td>\n",
       "      <td>0</td>\n",
       "      <td>1</td>\n",
       "      <td>0</td>\n",
       "      <td>1</td>\n",
       "      <td>0</td>\n",
       "      <td>0</td>\n",
       "      <td>0</td>\n",
       "      <td>1</td>\n",
       "      <td>0</td>\n",
       "      <td>0</td>\n",
       "      <td>0</td>\n",
       "      <td>0</td>\n",
       "      <td>0</td>\n",
       "      <td>0</td>\n",
       "      <td>1</td>\n",
       "      <td>0</td>\n",
       "      <td>0</td>\n",
       "    </tr>\n",
       "    <tr>\n",
       "      <th>3</th>\n",
       "      <td>1</td>\n",
       "      <td>1</td>\n",
       "      <td>15</td>\n",
       "      <td>1</td>\n",
       "      <td>0</td>\n",
       "      <td>1</td>\n",
       "      <td>0</td>\n",
       "      <td>0</td>\n",
       "      <td>1</td>\n",
       "      <td>1</td>\n",
       "      <td>1</td>\n",
       "      <td>1</td>\n",
       "      <td>1</td>\n",
       "      <td>1</td>\n",
       "      <td>1</td>\n",
       "      <td>3</td>\n",
       "      <td>2</td>\n",
       "      <td>2</td>\n",
       "      <td>1</td>\n",
       "      <td>1</td>\n",
       "      <td>5</td>\n",
       "      <td>2</td>\n",
       "      <td>15</td>\n",
       "      <td>0</td>\n",
       "      <td>0</td>\n",
       "      <td>1</td>\n",
       "      <td>0</td>\n",
       "      <td>1</td>\n",
       "      <td>0</td>\n",
       "      <td>0</td>\n",
       "      <td>0</td>\n",
       "      <td>1</td>\n",
       "      <td>0</td>\n",
       "      <td>0</td>\n",
       "      <td>1</td>\n",
       "      <td>0</td>\n",
       "      <td>0</td>\n",
       "      <td>0</td>\n",
       "      <td>0</td>\n",
       "      <td>1</td>\n",
       "      <td>0</td>\n",
       "      <td>1</td>\n",
       "      <td>0</td>\n",
       "      <td>0</td>\n",
       "      <td>0</td>\n",
       "      <td>0</td>\n",
       "      <td>0</td>\n",
       "      <td>0</td>\n",
       "      <td>1</td>\n",
       "      <td>0</td>\n",
       "    </tr>\n",
       "    <tr>\n",
       "      <th>4</th>\n",
       "      <td>1</td>\n",
       "      <td>1</td>\n",
       "      <td>16</td>\n",
       "      <td>1</td>\n",
       "      <td>0</td>\n",
       "      <td>1</td>\n",
       "      <td>0</td>\n",
       "      <td>0</td>\n",
       "      <td>1</td>\n",
       "      <td>1</td>\n",
       "      <td>0</td>\n",
       "      <td>1</td>\n",
       "      <td>1</td>\n",
       "      <td>0</td>\n",
       "      <td>0</td>\n",
       "      <td>4</td>\n",
       "      <td>3</td>\n",
       "      <td>2</td>\n",
       "      <td>1</td>\n",
       "      <td>2</td>\n",
       "      <td>5</td>\n",
       "      <td>4</td>\n",
       "      <td>10</td>\n",
       "      <td>0</td>\n",
       "      <td>1</td>\n",
       "      <td>0</td>\n",
       "      <td>0</td>\n",
       "      <td>0</td>\n",
       "      <td>1</td>\n",
       "      <td>0</td>\n",
       "      <td>0</td>\n",
       "      <td>1</td>\n",
       "      <td>0</td>\n",
       "      <td>0</td>\n",
       "      <td>0</td>\n",
       "      <td>0</td>\n",
       "      <td>0</td>\n",
       "      <td>0</td>\n",
       "      <td>1</td>\n",
       "      <td>0</td>\n",
       "      <td>0</td>\n",
       "      <td>0</td>\n",
       "      <td>1</td>\n",
       "      <td>0</td>\n",
       "      <td>0</td>\n",
       "      <td>0</td>\n",
       "      <td>0</td>\n",
       "      <td>1</td>\n",
       "      <td>0</td>\n",
       "      <td>0</td>\n",
       "    </tr>\n",
       "  </tbody>\n",
       "</table>\n",
       "</div>"
      ],
      "text/plain": [
       "   school  sex  age  address  famsize  Pstatus  failures  schoolsup  famsup  \\\n",
       "0       1    1   18        1        0        0         0          1       0   \n",
       "1       1    1   17        1        0        1         0          0       1   \n",
       "2       1    1   15        1        1        1         3          1       0   \n",
       "3       1    1   15        1        0        1         0          0       1   \n",
       "4       1    1   16        1        0        1         0          0       1   \n",
       "\n",
       "   paid  activities  nursery  higher  internet  romantic  famrel  freetime  \\\n",
       "0     0           0        1       1         0         0       4         3   \n",
       "1     0           0        0       1         1         0       5         3   \n",
       "2     1           0        1       1         1         0       4         3   \n",
       "3     1           1        1       1         1         1       3         2   \n",
       "4     1           0        1       1         0         0       4         3   \n",
       "\n",
       "   goout  Dalc  Walc  health  absences  G3  Fjob_health  Fjob_other  \\\n",
       "0      4     1     1       3         6   6            0           0   \n",
       "1      3     1     1       3         4   6            0           1   \n",
       "2      2     2     3       3        10  10            0           1   \n",
       "3      2     1     1       5         2  15            0           0   \n",
       "4      2     1     2       5         4  10            0           1   \n",
       "\n",
       "   Fjob_services  Fjob_teacher  Mjob_health  Mjob_other  Mjob_services  \\\n",
       "0              0             1            0           0              0   \n",
       "1              0             0            0           0              0   \n",
       "2              0             0            0           0              0   \n",
       "3              1             0            1           0              0   \n",
       "4              0             0            0           1              0   \n",
       "\n",
       "   Mjob_teacher  reason_home  reason_other  reason_reputation  \\\n",
       "0             0            0             0                  0   \n",
       "1             0            0             0                  0   \n",
       "2             0            0             1                  0   \n",
       "3             0            1             0                  0   \n",
       "4             0            1             0                  0   \n",
       "\n",
       "   guardian_mother  guardian_other  Medu_1  Medu_2  Medu_3  Medu_4  Fedu_1  \\\n",
       "0                1               0       0       0       0       1       0   \n",
       "1                0               0       1       0       0       0       1   \n",
       "2                1               0       1       0       0       0       1   \n",
       "3                1               0       0       0       0       1       0   \n",
       "4                0               0       0       0       1       0       0   \n",
       "\n",
       "   Fedu_2  Fedu_3  Fedu_4  traveltime_2  traveltime_3  traveltime_4  \\\n",
       "0       0       0       1             1             0             0   \n",
       "1       0       0       0             0             0             0   \n",
       "2       0       0       0             0             0             0   \n",
       "3       1       0       0             0             0             0   \n",
       "4       0       1       0             0             0             0   \n",
       "\n",
       "   studytime_2  studytime_3  studytime_4  \n",
       "0            1            0            0  \n",
       "1            1            0            0  \n",
       "2            1            0            0  \n",
       "3            0            1            0  \n",
       "4            1            0            0  "
      ]
     },
     "execution_count": 19,
     "metadata": {},
     "output_type": "execute_result"
    }
   ],
   "source": [
    "# Preprocessing final data while columns that contain Yes/No values will be converted into binary values and categories columns \n",
    "# will be enumerated.\n",
    "\n",
    "math_final = data_mat.copy()\n",
    "math_final = math_final.drop(['G1', 'G2','st_time','Category_Grade'], axis=1)\n",
    "# Convert dummy variables values into 0/1.\n",
    "math_final.school = math_final['school'].replace(['GP', 'MS'], [1,0])\n",
    "math_final.sex = math_final['sex'].replace(['F','M'],[1,0])\n",
    "math_final.address = math_final['address'].replace(['U','R'], [1,0])\n",
    "math_final.famsize = math_final['famsize'].replace(['LE3','GT3'], [1,0])\n",
    "math_final.Pstatus = math_final['Pstatus'].replace(['T','A'], [1,0])\n",
    "math_final.schoolsup = math_final['schoolsup'].replace(['yes','no'],[1,0])\n",
    "math_final.famsup = math_final['famsup'].replace(['yes','no'],[1,0])\n",
    "math_final.activities = math_final['activities'].replace(['yes','no'],[1,0])\n",
    "math_final.nursery = math_final['nursery'].replace(['yes','no'],[1,0])\n",
    "math_final.higher = math_final['higher'].replace(['yes','no'],[1,0])\n",
    "math_final.internet = math_final['internet'].replace(['yes','no'],[1,0])\n",
    "math_final.romantic = math_final['romantic'].replace(['yes','no'],[1,0])\n",
    "math_final.paid = math_final['paid'].replace(['yes','no'],[1,0])\n",
    "\n",
    "norminal_vars = ['Fjob', 'Mjob', 'reason','guardian','Medu','Fedu','traveltime','studytime']\n",
    "math_final = pd.get_dummies(math_final, columns= norminal_vars, drop_first=True)\n",
    "math_final.head()"
   ]
  },
  {
   "cell_type": "code",
   "execution_count": 20,
   "metadata": {},
   "outputs": [],
   "source": [
    "# Split data into train and test.\n",
    "X = math_final.drop(['G3'], axis=1)\n",
    "y = math_final['G3']\n",
    "X_train, X_test, y_train, y_test = train_test_split(X, y, test_size=0.2, random_state=42)"
   ]
  },
  {
   "cell_type": "markdown",
   "metadata": {},
   "source": [
    "### Model evaluation: quantifying the quality of predictions\n",
    "We have chosen to use the \"Mean Squared Error\" method to evaluate the quality of the model.  \n",
    "Our regression labels are in range of 0 - 20 with a semmi normal distribution and we have no need to use log.  \n",
    "\"Mean Squared Error\" was preferred over \"Mean Absolute Error\", as we wanted the model to \"punish\" larger errors, and over R^2 because we wanted the units to be understandable."
   ]
  },
  {
   "cell_type": "code",
   "execution_count": 21,
   "metadata": {},
   "outputs": [
    {
     "name": "stdout",
     "output_type": "stream",
     "text": [
      "\n",
      "=====================================================================\n",
      "<class 'sklearn.linear_model.base.LinearRegression'> \n",
      "\n",
      "CV Score cv = 5 [4.74790528 4.3520132  5.14583924 4.91478758 4.83192752] \n",
      "\n",
      "Mean of cv scores:  4.798494563451411 \n",
      "\n",
      "STD = 0.2596902156217683\n",
      "\n",
      "=====================================================================\n",
      "<class 'sklearn.tree.tree.DecisionTreeRegressor'> \n",
      "\n",
      "CV Score cv = 5 [6.08019325 5.66246343 5.08343091 6.31576511 4.79748611] \n",
      "\n",
      "Mean of cv scores:  5.58786776288003 \n",
      "\n",
      "STD = 0.5756636400458889\n",
      "\n",
      "=====================================================================\n",
      "<class 'sklearn.linear_model.coordinate_descent.Lasso'> \n",
      "\n",
      "CV Score cv = 5 [4.95360016 4.08610313 4.41818871 4.80758088 4.07307567] \n",
      "\n",
      "Mean of cv scores:  4.467709710238536 \n",
      "\n",
      "STD = 0.3620535525694609\n",
      "\n",
      "=====================================================================\n",
      "<class 'sklearn.ensemble.gradient_boosting.GradientBoostingRegressor'> \n",
      "\n",
      "CV Score cv = 5 [4.27739468 3.51252298 4.31041099 4.42488861 3.94812454] \n",
      "\n",
      "Mean of cv scores:  4.094668361051527 \n",
      "\n",
      "STD = 0.3314656941867\n",
      "\n",
      "=====================================================================\n",
      "<class 'sklearn.ensemble.forest.RandomForestRegressor'> \n",
      "\n",
      "CV Score cv = 5 [4.10040013 3.91600298 4.19286999 4.21783816 4.17410764] \n",
      "\n",
      "Mean of cv scores:  4.120243780674801 \n",
      "\n",
      "STD = 0.10936966455516077\n",
      "\n",
      "=====================================================================\n",
      "<class 'sklearn.svm.classes.SVR'> \n",
      "\n",
      "CV Score cv = 5 [4.88636914 3.80018942 4.26535639 4.62459154 3.95220769] \n",
      "\n",
      "Mean of cv scores:  4.305742834905109 \n",
      "\n",
      "STD = 0.40521446957351126\n",
      "\n",
      "=====================================================================\n",
      "<class 'xgboost.sklearn.XGBRegressor'> \n",
      "\n",
      "CV Score cv = 5 [4.31411322 3.67375244 4.46224011 4.51043407 3.8567086 ] \n",
      "\n",
      "Mean of cv scores:  4.163449687530107 \n",
      "\n",
      "STD = 0.3365313853277303\n"
     ]
    }
   ],
   "source": [
    "#Run cross val score on the fpllowing chosen models:\n",
    "#    1.) LinearRegression\n",
    "#    2.) DecisionTreeRegressor\n",
    "#    3.) linear_model.Lasso\n",
    "#    4.) GradientBoostingRegressor\n",
    "#    5.) RandomForestRegressor\n",
    "#    6.) SVR\n",
    "#    7.) XGBRegressor\n",
    "\n",
    "\n",
    "#Create the model according to give model name    \n",
    "def bulid_model(model_name):\n",
    "        model = model_name()\n",
    "        return model\n",
    "\n",
    "#Run the given model and prints the score and std\n",
    "def run_cross_val_score(model, X, y, cv):\n",
    "    #Running the scoring with negative mean squared error \n",
    "    cv_scores = cross_val_score(model, X, y, cv=cv, scoring='neg_mean_squared_error')\n",
    "    cv_scores = np.sqrt(abs(cv_scores)) # Convert the given score into RMSE\n",
    "    print(\"CV Score cv =\", cv, cv_scores, \"\\n\\nMean of cv scores: \", np.mean(cv_scores),\"\\n\")\n",
    "    print(\"STD =\", cv_scores.std())\n",
    "            \n",
    "#Loop through models and run cross val score        \n",
    "for model_name in [LinearRegression, DecisionTreeRegressor, linear_model.Lasso, GradientBoostingRegressor, RandomForestRegressor, SVR, XGBRegressor]:\n",
    "    model = bulid_model(model_name)\n",
    "    print(\"\\n=====================================================================\")\n",
    "    print(model_name,\"\\n\")\n",
    "    run_cross_val_score(model, X_train, y_train, 5)    "
   ]
  },
  {
   "cell_type": "code",
   "execution_count": 22,
   "metadata": {},
   "outputs": [
    {
     "name": "stdout",
     "output_type": "stream",
     "text": [
      "The chosen models are: \n",
      "\t 1.) DecisionTreeRegressor \n",
      "\t 2.) SVR \n",
      "\t 3.) XGBRegressor \n",
      "\t 4.) RandomForestRegressor  \n",
      "\t 5.) LinearRegression\n"
     ]
    }
   ],
   "source": [
    "print(\"The chosen models are: \\n\\t 1.) DecisionTreeRegressor \\n\\t 2.) SVR \\n\\t 3.) XGBRegressor \\n\\t 4.) RandomForestRegressor  \\n\\t 5.) LinearRegression\")"
   ]
  },
  {
   "cell_type": "markdown",
   "metadata": {},
   "source": [
    "### DecisionTreeRegressor"
   ]
  },
  {
   "cell_type": "code",
   "execution_count": 23,
   "metadata": {},
   "outputs": [
    {
     "name": "stdout",
     "output_type": "stream",
     "text": [
      "Best cross validation score: 4.15\n",
      "Best parameters: {'criterion': 'mse', 'max_depth': 1000, 'max_features': 'sqrt', 'min_samples_leaf': 2, 'min_samples_split': 40, 'presort': True, 'splitter': 'best'}\n",
      "Test score: 4.649713804576034\n"
     ]
    }
   ],
   "source": [
    "# criterion (default='mse') - The function to measure the quality : 'mse', 'friedman_mse','mae'\n",
    "#        1.) mse - mean squared error.\n",
    "#        2.) friedman_mse - mean squared error : uses mean squared error with Friedman’s improvement score for potential splits.\n",
    "#        3.) mse - mean squared error : mean absolute error.\n",
    "\n",
    "# splitter (default='best') - The strategy used to choose the split at each node\n",
    "#        1.) best - to choose the best split.\n",
    "#        2.) random -  to choose the best random split.\n",
    "\n",
    "# max_depth (default='None') - The maximum depth of the tree.\n",
    "\n",
    "# min_samples_split (default=2) - The minimum number of samples required to split an internal node.\n",
    "\n",
    "# max_features (default='None') - The number of features to consider when looking for the best split.          \n",
    "#        int value = then consider max_features features at each split.\n",
    "#        \"auto” = then max_features=n_features.\n",
    "#        “sqrt” = then max_features=sqrt(n_features).\n",
    "#        “log2” = then max_features=log2(n_features)\n",
    "\n",
    "# presort (default=False) - Whether to presort the data to speed up the finding of best splits in fitting\n",
    "\n",
    "\n",
    "def get_parameters_tuning (model, X_train, y_train, X_test, y_test, cv, params_grid):\n",
    "    grid = GridSearchCV(model, params_grid, cv=cv, scoring='neg_mean_squared_error')\n",
    "    grid.fit(X_train, y_train)\n",
    "    print('Best cross validation score: {:.2f}'.format(np.sqrt(abs(grid.best_score_))))\n",
    "    print('Best parameters:', grid.best_params_)\n",
    "    print('Test score:', np.sqrt(abs(grid.score(X_test, y_test))))\n",
    "\n",
    "params_grid = {'criterion':['mse','friedman_mse','mae'], 'splitter':['best','random'], 'max_depth':[10,100,1000], \n",
    "               'min_samples_split':[5,10,20,40,80,160], 'min_samples_leaf':[1,2,3,4,5,10], \n",
    "               'max_features':['auto','sqrt','log2'], 'presort':[True,False] }\n",
    "\n",
    "get_parameters_tuning(DecisionTreeRegressor(), X_train, y_train, X_test, y_test, 5, params_grid)"
   ]
  },
  {
   "cell_type": "code",
   "execution_count": 24,
   "metadata": {},
   "outputs": [
    {
     "data": {
      "text/plain": [
       "DecisionTreeRegressor(criterion='mse', max_depth=10, max_features=None,\n",
       "                      max_leaf_nodes=None, min_impurity_decrease=0.0,\n",
       "                      min_impurity_split=None, min_samples_leaf=10,\n",
       "                      min_samples_split=40, min_weight_fraction_leaf=0.0,\n",
       "                      presort=True, random_state=None, splitter='best')"
      ]
     },
     "execution_count": 24,
     "metadata": {},
     "output_type": "execute_result"
    }
   ],
   "source": [
    "decision_tree_regressor_model = DecisionTreeRegressor(max_depth=10, min_samples_leaf=10, min_samples_split=40, presort=True)\n",
    "decision_tree_regressor_model.fit(X_train, y_train)"
   ]
  },
  {
   "cell_type": "code",
   "execution_count": 25,
   "metadata": {},
   "outputs": [],
   "source": [
    "dt_predictions = decision_tree_regressor_model.predict(X_train)"
   ]
  },
  {
   "cell_type": "code",
   "execution_count": 26,
   "metadata": {},
   "outputs": [],
   "source": [
    "def print_rmse(orig_values, predict_values):\n",
    "    rmse = np.sqrt(MSE(orig_values, predict_values))\n",
    "    print(\"RMSE = {:.2f}\".format(rmse))"
   ]
  },
  {
   "cell_type": "code",
   "execution_count": 27,
   "metadata": {},
   "outputs": [
    {
     "name": "stdout",
     "output_type": "stream",
     "text": [
      "Predict RMSE with floting prediction : \n",
      "RMSE = 3.60\n"
     ]
    }
   ],
   "source": [
    "#DecisionTreeRegressor RMSE for train data\n",
    "print('Predict RMSE with floting prediction : ')\n",
    "print_rmse(y_train, dt_predictions)"
   ]
  },
  {
   "cell_type": "code",
   "execution_count": 28,
   "metadata": {},
   "outputs": [
    {
     "data": {
      "text/plain": [
       "Text(0.5, 1.0, 'Display the Difference Between Predicted G3 and Actual G3')"
      ]
     },
     "execution_count": 28,
     "metadata": {},
     "output_type": "execute_result"
    },
    {
     "data": {
      "image/png": "[encoded data removed]",
      "text/plain": [
       "<Figure size 1080x504 with 1 Axes>"
      ]
     },
     "metadata": {},
     "output_type": "display_data"
    }
   ],
   "source": [
    "#Display the Difference Between Predicted G3 and Actual G3\n",
    "plt.figure(figsize=(15,7))\n",
    "plt.plot(y_train-dt_predictions, '.b', markersize=4)\n",
    "plt.xlabel('Data')\n",
    "plt.ylabel('Actual Difference')\n",
    "plt.title('Display the Difference Between Predicted G3 and Actual G3')"
   ]
  },
  {
   "cell_type": "code",
   "execution_count": 29,
   "metadata": {},
   "outputs": [
    {
     "name": "stdout",
     "output_type": "stream",
     "text": [
      "Predict RMSE with floting prediction : \n",
      "RMSE = 4.43\n"
     ]
    }
   ],
   "source": [
    "#DecisionTreeRegressor RMSE for test data\n",
    "dt_test_predictions = decision_tree_regressor_model.predict(X_test)\n",
    "print('Predict RMSE with floting prediction : ')\n",
    "print_rmse(y_test, dt_test_predictions)"
   ]
  },
  {
   "cell_type": "code",
   "execution_count": 30,
   "metadata": {},
   "outputs": [
    {
     "data": {
      "text/html": [
       "<img src=\"tree.jpg\"/>"
      ],
      "text/plain": [
       "<IPython.core.display.Image object>"
      ]
     },
     "execution_count": 30,
     "metadata": {},
     "output_type": "execute_result"
    }
   ],
   "source": [
    "export_graphviz(decision_tree_regressor_model, out_file ='tree.dot')  \n",
    "Image(url= \"tree.jpg\")"
   ]
  },
  {
   "cell_type": "markdown",
   "metadata": {},
   "source": [
    "### SVR"
   ]
  },
  {
   "cell_type": "code",
   "execution_count": 31,
   "metadata": {},
   "outputs": [
    {
     "name": "stdout",
     "output_type": "stream",
     "text": [
      "Best cross validation score: 4.09\n",
      "Best parameters: {'C': 10000000000.0, 'gamma': 0.1}\n",
      "Test score: 4.1160139324615574\n"
     ]
    }
   ],
   "source": [
    "#SVR\n",
    "params_grid = {'gamma': [1e-3,1e-1,1e0,1e1,1e10,1e50], 'C':[1e-3,1e-1,1e0,1e1,1e10,1e50]}\n",
    "get_parameters_tuning(SVR(), X_train, y_train, X_test, y_test, 5, params_grid)"
   ]
  },
  {
   "cell_type": "code",
   "execution_count": 32,
   "metadata": {},
   "outputs": [
    {
     "name": "stdout",
     "output_type": "stream",
     "text": [
      "Predict RMSE with floting prediction for SVR model : \n",
      "RMSE = 4.21\n"
     ]
    }
   ],
   "source": [
    "svr_model = SVR(C=10.0, gamma=0.001)\n",
    "svr_model.fit(X_train, y_train)\n",
    "svr_predictions = svr_model.predict(X_train)\n",
    "\n",
    "#SVR RMSE for train data\n",
    "print('Predict RMSE with floting prediction for SVR model : ')\n",
    "print_rmse(y_train, svr_predictions)"
   ]
  },
  {
   "cell_type": "code",
   "execution_count": 33,
   "metadata": {},
   "outputs": [
    {
     "data": {
      "text/plain": [
       "Text(0.5, 1.0, 'SVR - Display the Difference Between Predicted G3 and Actual G3')"
      ]
     },
     "execution_count": 33,
     "metadata": {},
     "output_type": "execute_result"
    },
    {
     "data": {
      "image/png": "[encoded data removed]",
      "text/plain": [
       "<Figure size 1080x504 with 1 Axes>"
      ]
     },
     "metadata": {},
     "output_type": "display_data"
    }
   ],
   "source": [
    "plt.figure(figsize=(15,7))\n",
    "plt.plot(y_train-svr_predictions, '.b', markersize=4)\n",
    "plt.xlabel('Data')\n",
    "plt.ylabel('Actual Difference')\n",
    "plt.title('SVR - Display the Difference Between Predicted G3 and Actual G3')"
   ]
  },
  {
   "cell_type": "code",
   "execution_count": 34,
   "metadata": {},
   "outputs": [
    {
     "name": "stdout",
     "output_type": "stream",
     "text": [
      "Predict RMSE with floting prediction (SVR-test) : \n",
      "RMSE = 4.15\n"
     ]
    }
   ],
   "source": [
    "#SVR RMSE for test data\n",
    "svr_test_predictions = svr_model.predict(X_test)\n",
    "print('Predict RMSE with floting prediction (SVR-test) : ')\n",
    "print_rmse(y_test, svr_test_predictions)"
   ]
  },
  {
   "cell_type": "markdown",
   "metadata": {},
   "source": [
    "### XGBRegressor"
   ]
  },
  {
   "cell_type": "code",
   "execution_count": 35,
   "metadata": {},
   "outputs": [
    {
     "name": "stdout",
     "output_type": "stream",
     "text": [
      "Best cross validation score: 4.01\n",
      "Best parameters: {'learning_rate': 0.1, 'max_depth': 2, 'n_estimators': 50}\n",
      "Test score: 4.083522858118906\n"
     ]
    }
   ],
   "source": [
    "#XGBRegressor\n",
    "grid_params = {'max_depth':[2,3,5,7], 'learning_rate':[0.001,0.01,0.1], 'n_estimators':[50,100,200]}\n",
    "get_parameters_tuning(XGBRegressor(), X_train, y_train, X_test, y_test, 5, grid_params)"
   ]
  },
  {
   "cell_type": "code",
   "execution_count": 36,
   "metadata": {},
   "outputs": [
    {
     "name": "stdout",
     "output_type": "stream",
     "text": [
      "Predict RMSE with floting prediction for XGBRegressor model : \n",
      "RMSE = 3.34\n"
     ]
    }
   ],
   "source": [
    "model_XGBRegressor = XGBRegressor(max_depth=2,learning_rate=0.1, n_estimators=50)\n",
    "model_XGBRegressor.fit(X_train,y_train)\n",
    "xgbregressor_train_predictions = model_XGBRegressor.predict(X_train)\n",
    "\n",
    "#XGBRegressor RMSE for train data\n",
    "print('Predict RMSE with floting prediction for XGBRegressor model : ')\n",
    "print_rmse(y_train, xgbregressor_train_predictions)"
   ]
  },
  {
   "cell_type": "code",
   "execution_count": 37,
   "metadata": {},
   "outputs": [
    {
     "data": {
      "text/plain": [
       "Text(0.5, 1.0, 'XGBRegressor - Display the Difference Between Predicted G3 and Actual G3')"
      ]
     },
     "execution_count": 37,
     "metadata": {},
     "output_type": "execute_result"
    },
    {
     "data": {
      "image/png": "[encoded data removed]",
      "text/plain": [
       "<Figure size 1080x504 with 1 Axes>"
      ]
     },
     "metadata": {},
     "output_type": "display_data"
    }
   ],
   "source": [
    "plt.figure(figsize=(15,7))\n",
    "plt.plot(y_train-xgbregressor_train_predictions, '.b', markersize=4)\n",
    "plt.xlabel('Data')\n",
    "plt.ylabel('Actual Difference')\n",
    "plt.title('XGBRegressor - Display the Difference Between Predicted G3 and Actual G3')"
   ]
  },
  {
   "cell_type": "code",
   "execution_count": 38,
   "metadata": {},
   "outputs": [
    {
     "name": "stdout",
     "output_type": "stream",
     "text": [
      "Predict RMSE with floting prediction (XGBRegressor-test) : \n",
      "RMSE = 4.08\n"
     ]
    }
   ],
   "source": [
    "#XGBRegressor RMSE for test data\n",
    "xgbregressor_test_predictions = model_XGBRegressor.predict(X_test)\n",
    "print('Predict RMSE with floting prediction (XGBRegressor-test) : ')\n",
    "print_rmse(y_test, xgbregressor_test_predictions)"
   ]
  },
  {
   "cell_type": "markdown",
   "metadata": {},
   "source": [
    "### RandomForestRegressor"
   ]
  },
  {
   "cell_type": "code",
   "execution_count": 39,
   "metadata": {},
   "outputs": [
    {
     "name": "stdout",
     "output_type": "stream",
     "text": [
      "Best cross validation score: 3.89\n",
      "Best parameters: {'max_depth': 7, 'min_samples_leaf': 5, 'n_estimators': 100}\n",
      "Test score: 3.938340672188345\n"
     ]
    }
   ],
   "source": [
    "#RandomForestRegressor\n",
    "params_grid = {'n_estimators':[5,10,50,100,500],'max_depth':[1,3,5,7],'min_samples_leaf':[5]}\n",
    "get_parameters_tuning(RandomForestRegressor(), X_train, y_train, X_test, y_test, 5, params_grid)"
   ]
  },
  {
   "cell_type": "code",
   "execution_count": 40,
   "metadata": {},
   "outputs": [
    {
     "name": "stdout",
     "output_type": "stream",
     "text": [
      "Predict RMSE with floting prediction (RandomForestRegressor-train) : \n",
      "RMSE = 2.86\n",
      "\n",
      "Predict RMSE with floting prediction (RandomForestRegressor-test) : \n",
      "RMSE = 3.98\n"
     ]
    }
   ],
   "source": [
    "best_RFR = RandomForestRegressor(n_estimators=500, max_depth=7, min_samples_leaf=5)\n",
    "best_RFR.fit(X_train, y_train)\n",
    "\n",
    "randomforest_train_predictions = best_RFR.predict(X_train)\n",
    "print('Predict RMSE with floting prediction (RandomForestRegressor-train) : ')\n",
    "print_rmse(y_train, randomforest_train_predictions)\n",
    "\n",
    "randomforest_test_predictions = best_RFR.predict(X_test)\n",
    "print('\\nPredict RMSE with floting prediction (RandomForestRegressor-test) : ')\n",
    "print_rmse(y_test, randomforest_test_predictions)\n"
   ]
  },
  {
   "cell_type": "markdown",
   "metadata": {},
   "source": [
    "### LinearRegression"
   ]
  },
  {
   "cell_type": "code",
   "execution_count": 41,
   "metadata": {},
   "outputs": [
    {
     "name": "stdout",
     "output_type": "stream",
     "text": [
      "Best cross validation score: 4.81\n",
      "Best parameters: {'copy_X': True, 'fit_intercept': True, 'normalize': False}\n",
      "Test score: 4.312081731520781\n"
     ]
    }
   ],
   "source": [
    "params_grid = {'fit_intercept':[True,False], 'normalize':[True,False], 'copy_X':[True, False]}\n",
    "get_parameters_tuning(LinearRegression(), X_train, y_train, X_test, y_test, 5, params_grid)"
   ]
  },
  {
   "cell_type": "code",
   "execution_count": 42,
   "metadata": {},
   "outputs": [
    {
     "name": "stdout",
     "output_type": "stream",
     "text": [
      "Predict RMSE with floting prediction (LinearRegression-train) : \n",
      "RMSE = 3.80\n",
      "\n",
      "Predict RMSE with floting prediction (LinearRegression-test) : \n",
      "RMSE = 4.31\n"
     ]
    }
   ],
   "source": [
    "linear_regression_model = LinearRegression()\n",
    "linear_regression_model.fit(X_train,y_train)\n",
    "linear_regression_predictions = linear_regression_model.predict(X_train)\n",
    "\n",
    "print('Predict RMSE with floting prediction (LinearRegression-train) : ')\n",
    "print_rmse(y_train, linear_regression_predictions)\n",
    "\n",
    "\n",
    "linear_regression_test_predictions = linear_regression_model.predict(X_test)\n",
    "print('\\nPredict RMSE with floting prediction (LinearRegression-test) : ')\n",
    "print_rmse(y_test, linear_regression_test_predictions)\n"
   ]
  },
  {
   "cell_type": "markdown",
   "metadata": {},
   "source": [
    "### Conclusion:\n",
    "   "
   ]
  },
  {
   "cell_type": "markdown",
   "metadata": {},
   "source": [
    "#### The following are the final tests results:\n",
    "#####    1.) RandomForestRegressor: 3.97\n",
    "#####    2.) XGBRegressor: 4.08\n",
    "#####    3.) SVR: 4.15\n",
    "#####    4.) LinearRegression: 4.31\n",
    "#####    5.) DecisionTreeRegressor: 4.43    \n"
   ]
  },
  {
   "cell_type": "markdown",
   "metadata": {},
   "source": [
    "### Model Ensemble"
   ]
  },
  {
   "cell_type": "code",
   "execution_count": 43,
   "metadata": {},
   "outputs": [
    {
     "name": "stdout",
     "output_type": "stream",
     "text": [
      "RMSE = 4.01\n"
     ]
    }
   ],
   "source": [
    "#Model ensemble\n",
    "model_ensemble_df = pd.DataFrame(randomforest_test_predictions,columns=['RF'])\n",
    "model_ensemble_df['XGB'] = xgbregressor_test_predictions\n",
    "model_ensemble_df['SVR'] = svr_test_predictions\n",
    "model_ensemble_df['AVG'] = model_ensemble_df.median(axis=1)\n",
    "\n",
    "print_rmse(y_test, model_ensemble_df['AVG'])"
   ]
  }
 ],
 "metadata": {
  "kernelspec": {
   "display_name": "Python 3",
   "language": "python",
   "name": "python3"
  },
  "language_info": {
   "codemirror_mode": {
    "name": "ipython",
    "version": 3
   },
   "file_extension": ".py",
   "mimetype": "text/x-python",
   "name": "python",
   "nbconvert_exporter": "python",
   "pygments_lexer": "ipython3",
   "version": "3.7.3"
  }
 },
 "nbformat": 4,
 "nbformat_minor": 2
}
